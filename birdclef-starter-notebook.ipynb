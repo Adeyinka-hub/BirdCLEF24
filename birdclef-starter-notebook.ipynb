{
 "cells": [
  {
   "cell_type": "markdown",
   "id": "37903ac1",
   "metadata": {
    "papermill": {
     "duration": 0.055043,
     "end_time": "2024-05-05T06:39:42.377707",
     "exception": false,
     "start_time": "2024-05-05T06:39:42.322664",
     "status": "completed"
    },
    "tags": []
   },
   "source": [
    "use focal loss"
   ]
  },
  {
   "cell_type": "markdown",
   "id": "4bf2a734",
   "metadata": {
    "papermill": {
     "duration": 0.054268,
     "end_time": "2024-05-05T06:39:42.487169",
     "exception": false,
     "start_time": "2024-05-05T06:39:42.432901",
     "status": "completed"
    },
    "tags": []
   },
   "source": [
    "exp0010 → exp0011\n",
    "\n",
    "重複しているファイルを消して学習をする\n",
    "\n",
    "exp0011 → exp0012\n",
    "\n",
    "augmentation test <br>\n",
    "aug_spec_mixupを導入し、50%の確率で適用するかしないか"
   ]
  },
  {
   "cell_type": "markdown",
   "id": "e1afcb7f",
   "metadata": {
    "papermill": {
     "duration": 0.055299,
     "end_time": "2024-05-05T06:39:42.596157",
     "exception": false,
     "start_time": "2024-05-05T06:39:42.540858",
     "status": "completed"
    },
    "tags": []
   },
   "source": [
    "- eca_nfnet_l0 (2 stages training; Start LR 1e-3)\r",
    "- \n",
    "convnext_small_fb_in22k_ft_in1k_384 (2 stages training; Start LR 1e-4\n",
    "- \r\n",
    "convnextv2_tiny_fcmae_ft_in22k_in1k_384 (1 stage training; Start LR 1e-4)"
   ]
  },
  {
   "cell_type": "markdown",
   "id": "ff626716",
   "metadata": {
    "papermill": {
     "duration": 0.053719,
     "end_time": "2024-05-05T06:39:42.703708",
     "exception": false,
     "start_time": "2024-05-05T06:39:42.649989",
     "status": "completed"
    },
    "tags": []
   },
   "source": [
    "exp1011 specmix upの実験"
   ]
  },
  {
   "cell_type": "markdown",
   "id": "e8398067",
   "metadata": {
    "papermill": {
     "duration": 0.113692,
     "end_time": "2024-05-05T06:39:42.870801",
     "exception": false,
     "start_time": "2024-05-05T06:39:42.757109",
     "status": "completed"
    },
    "tags": []
   },
   "source": [
    "exp1018 oversampling"
   ]
  },
  {
   "cell_type": "markdown",
   "id": "59a2c122",
   "metadata": {
    "papermill": {
     "duration": 0.052988,
     "end_time": "2024-05-05T06:39:42.977096",
     "exception": false,
     "start_time": "2024-05-05T06:39:42.924108",
     "status": "completed"
    },
    "tags": []
   },
   "source": [
    "exp1019 augmentation test"
   ]
  },
  {
   "cell_type": "code",
   "execution_count": 1,
   "id": "89719729",
   "metadata": {
    "execution": {
     "iopub.execute_input": "2024-05-05T06:39:43.085610Z",
     "iopub.status.busy": "2024-05-05T06:39:43.085142Z",
     "iopub.status.idle": "2024-05-05T06:39:43.100255Z",
     "shell.execute_reply": "2024-05-05T06:39:43.099076Z"
    },
    "papermill": {
     "duration": 0.072407,
     "end_time": "2024-05-05T06:39:43.102915",
     "exception": false,
     "start_time": "2024-05-05T06:39:43.030508",
     "status": "completed"
    },
    "tags": []
   },
   "outputs": [],
   "source": [
    "KAGGLE = True\n",
    "\n",
    "isTrain = False\n",
    "isInference = True\n",
    "\n",
    "if isTrain == False and isInference == True:\n",
    "    newDir = False\n",
    "else:\n",
    "    newDir = True"
   ]
  },
  {
   "cell_type": "code",
   "execution_count": 2,
   "id": "3505a52e",
   "metadata": {
    "execution": {
     "iopub.execute_input": "2024-05-05T06:39:43.211735Z",
     "iopub.status.busy": "2024-05-05T06:39:43.211336Z",
     "iopub.status.idle": "2024-05-05T06:39:43.216865Z",
     "shell.execute_reply": "2024-05-05T06:39:43.215772Z"
    },
    "papermill": {
     "duration": 0.063579,
     "end_time": "2024-05-05T06:39:43.220160",
     "exception": false,
     "start_time": "2024-05-05T06:39:43.156581",
     "status": "completed"
    },
    "tags": []
   },
   "outputs": [
    {
     "name": "stdout",
     "output_type": "stream",
     "text": [
      "False\n"
     ]
    }
   ],
   "source": [
    "print(newDir)"
   ]
  },
  {
   "cell_type": "code",
   "execution_count": 3,
   "id": "b20ba951",
   "metadata": {
    "execution": {
     "iopub.execute_input": "2024-05-05T06:39:43.330918Z",
     "iopub.status.busy": "2024-05-05T06:39:43.330503Z",
     "iopub.status.idle": "2024-05-05T06:40:29.407459Z",
     "shell.execute_reply": "2024-05-05T06:40:29.406135Z"
    },
    "papermill": {
     "duration": 46.135518,
     "end_time": "2024-05-05T06:40:29.410311",
     "exception": false,
     "start_time": "2024-05-05T06:39:43.274793",
     "status": "completed"
    },
    "tags": []
   },
   "outputs": [
    {
     "name": "stdout",
     "output_type": "stream",
     "text": [
      "Looking in links: /kaggle/input/onnxruntime\r\n",
      "Processing /kaggle/input/onnxruntime/humanfriendly-10.0-py2.py3-none-any.whl\r\n",
      "Installing collected packages: humanfriendly\r\n",
      "Successfully installed humanfriendly-10.0\r\n",
      "Looking in links: /kaggle/input/onnxruntime\r\n",
      "Processing /kaggle/input/onnxruntime/coloredlogs-15.0.1-py2.py3-none-any.whl\r\n",
      "Requirement already satisfied: humanfriendly>=9.1 in /opt/conda/lib/python3.10/site-packages (from coloredlogs==15.0.1) (10.0)\r\n",
      "Installing collected packages: coloredlogs\r\n",
      "Successfully installed coloredlogs-15.0.1\r\n",
      "Looking in links: /kaggle/input/onnxruntime\r\n",
      "Processing /kaggle/input/onnxruntime/onnxruntime-1.17.3-cp310-cp310-manylinux_2_27_x86_64.manylinux_2_28_x86_64.whl\r\n",
      "Requirement already satisfied: coloredlogs in /opt/conda/lib/python3.10/site-packages (from onnxruntime==1.17.3) (15.0.1)\r\n",
      "Requirement already satisfied: flatbuffers in /opt/conda/lib/python3.10/site-packages (from onnxruntime==1.17.3) (23.5.26)\r\n",
      "Requirement already satisfied: numpy>=1.21.6 in /opt/conda/lib/python3.10/site-packages (from onnxruntime==1.17.3) (1.26.4)\r\n",
      "Requirement already satisfied: packaging in /opt/conda/lib/python3.10/site-packages (from onnxruntime==1.17.3) (21.3)\r\n",
      "Requirement already satisfied: protobuf in /opt/conda/lib/python3.10/site-packages (from onnxruntime==1.17.3) (3.20.3)\r\n",
      "Requirement already satisfied: sympy in /opt/conda/lib/python3.10/site-packages (from onnxruntime==1.17.3) (1.12)\r\n",
      "Requirement already satisfied: humanfriendly>=9.1 in /opt/conda/lib/python3.10/site-packages (from coloredlogs->onnxruntime==1.17.3) (10.0)\r\n",
      "Requirement already satisfied: pyparsing!=3.0.5,>=2.0.2 in /opt/conda/lib/python3.10/site-packages (from packaging->onnxruntime==1.17.3) (3.1.1)\r\n",
      "Requirement already satisfied: mpmath>=0.19 in /opt/conda/lib/python3.10/site-packages (from sympy->onnxruntime==1.17.3) (1.3.0)\r\n",
      "Installing collected packages: onnxruntime\r\n",
      "Successfully installed onnxruntime-1.17.3\r\n"
     ]
    }
   ],
   "source": [
    "if KAGGLE == True:\n",
    "    !pip install /kaggle/input/onnxruntime/humanfriendly-10.0-py2.py3-none-any.whl --no-index --find-links /kaggle/input/onnxruntime\n",
    "    !pip install /kaggle/input/onnxruntime/coloredlogs-15.0.1-py2.py3-none-any.whl --no-index --find-links /kaggle/input/onnxruntime\n",
    "    !pip install /kaggle/input/onnxruntime/onnxruntime-1.17.3-cp310-cp310-manylinux_2_27_x86_64.manylinux_2_28_x86_64.whl --no-index --find-links /kaggle/input/onnxruntime"
   ]
  },
  {
   "cell_type": "code",
   "execution_count": 4,
   "id": "822fa5eb",
   "metadata": {
    "execution": {
     "iopub.execute_input": "2024-05-05T06:40:29.522843Z",
     "iopub.status.busy": "2024-05-05T06:40:29.521854Z",
     "iopub.status.idle": "2024-05-05T06:40:41.319049Z",
     "shell.execute_reply": "2024-05-05T06:40:41.318071Z"
    },
    "papermill": {
     "duration": 11.856029,
     "end_time": "2024-05-05T06:40:41.321753",
     "exception": false,
     "start_time": "2024-05-05T06:40:29.465724",
     "status": "completed"
    },
    "tags": []
   },
   "outputs": [
    {
     "name": "stdout",
     "output_type": "stream",
     "text": [
      "pytorch version is 2.1.2+cpu\n"
     ]
    }
   ],
   "source": [
    "import os\n",
    "import gc\n",
    "import sys\n",
    "import glob\n",
    "import time\n",
    "import shutil\n",
    "import random\n",
    "import warnings\n",
    "warnings.simplefilter(\"ignore\")\n",
    "\n",
    "import wandb\n",
    "\n",
    "import numpy as np\n",
    "import pandas as pd\n",
    "from sklearn.model_selection import KFold, GroupKFold, StratifiedGroupKFold\n",
    "\n",
    "from tqdm.notebook import tqdm\n",
    "\n",
    "import seaborn as sns\n",
    "import matplotlib.pyplot as plt\n",
    "\n",
    "from torch.cuda import amp\n",
    "import torch\n",
    "print(f\"pytorch version is {torch.__version__}\")\n",
    "import torch.nn as nn\n",
    "from torch.cuda import amp\n",
    "\n",
    "import torchvision\n",
    "from torchvision.transforms import v2 as transforms\n",
    "\n",
    "import librosa\n",
    "import torchaudio\n",
    "import torchaudio.transforms as audioT\n",
    "\n",
    "if KAGGLE == False:\n",
    "    import nnAudio\n",
    "    from nnAudio import features\n",
    "    import albumentations\n",
    "    from audiomentations import Compose, SpecCompose, OneOf, AddGaussianNoise, AddColorNoise\n",
    "    from audiomentations import TimeStretch, PitchShift, Shift, SpecFrequencyMask, TimeMask\n",
    "    from audiomentations import Gain, GainTransition\n",
    "    from torcheval.metrics.functional import multiclass_auroc, multiclass_f1_score, multiclass_precision, multiclass_recall, multilabel_accuracy\n",
    "if KAGGLE == False:\n",
    "    from adan_pytorch import Adan\n",
    "import timm"
   ]
  },
  {
   "cell_type": "code",
   "execution_count": 5,
   "id": "8bf6344d",
   "metadata": {
    "execution": {
     "iopub.execute_input": "2024-05-05T06:40:41.434001Z",
     "iopub.status.busy": "2024-05-05T06:40:41.432784Z",
     "iopub.status.idle": "2024-05-05T06:40:41.443539Z",
     "shell.execute_reply": "2024-05-05T06:40:41.442464Z"
    },
    "papermill": {
     "duration": 0.069392,
     "end_time": "2024-05-05T06:40:41.446069",
     "exception": false,
     "start_time": "2024-05-05T06:40:41.376677",
     "status": "completed"
    },
    "scrolled": true,
    "tags": []
   },
   "outputs": [
    {
     "data": {
      "text/plain": [
       "['eca_botnext26ts_256',\n",
       " 'eca_halonext26ts',\n",
       " 'eca_nfnet_l0',\n",
       " 'eca_nfnet_l1',\n",
       " 'eca_nfnet_l2',\n",
       " 'eca_nfnet_l3',\n",
       " 'eca_resnet33ts',\n",
       " 'eca_resnext26ts',\n",
       " 'eca_vovnet39b',\n",
       " 'ecaresnet26t',\n",
       " 'ecaresnet50d',\n",
       " 'ecaresnet50d_pruned',\n",
       " 'ecaresnet50t',\n",
       " 'ecaresnet101d',\n",
       " 'ecaresnet101d_pruned',\n",
       " 'ecaresnet200d',\n",
       " 'ecaresnet269d',\n",
       " 'ecaresnetlight',\n",
       " 'ecaresnext26t_32x4d',\n",
       " 'ecaresnext50t_32x4d',\n",
       " 'nf_ecaresnet26',\n",
       " 'nf_ecaresnet50',\n",
       " 'nf_ecaresnet101',\n",
       " 'selecsls42',\n",
       " 'selecsls42b',\n",
       " 'selecsls60',\n",
       " 'selecsls60b',\n",
       " 'selecsls84']"
      ]
     },
     "execution_count": 5,
     "metadata": {},
     "output_type": "execute_result"
    }
   ],
   "source": [
    "timm.list_models(\"*ec*\")"
   ]
  },
  {
   "cell_type": "code",
   "execution_count": null,
   "id": "6b1aa032",
   "metadata": {
    "papermill": {
     "duration": 0.054191,
     "end_time": "2024-05-05T06:40:41.557524",
     "exception": false,
     "start_time": "2024-05-05T06:40:41.503333",
     "status": "completed"
    },
    "tags": []
   },
   "outputs": [],
   "source": []
  },
  {
   "cell_type": "code",
   "execution_count": 6,
   "id": "9b530b79",
   "metadata": {
    "execution": {
     "iopub.execute_input": "2024-05-05T06:40:41.669246Z",
     "iopub.status.busy": "2024-05-05T06:40:41.668825Z",
     "iopub.status.idle": "2024-05-05T06:40:41.676405Z",
     "shell.execute_reply": "2024-05-05T06:40:41.675297Z"
    },
    "papermill": {
     "duration": 0.06701,
     "end_time": "2024-05-05T06:40:41.679360",
     "exception": false,
     "start_time": "2024-05-05T06:40:41.612350",
     "status": "completed"
    },
    "tags": []
   },
   "outputs": [
    {
     "name": "stdout",
     "output_type": "stream",
     "text": [
      "filename is bird2024exp1057\n"
     ]
    }
   ],
   "source": [
    "## decide name\n",
    "if KAGGLE == False:\n",
    "    if isTrain == True:\n",
    "        name = sorted(glob.glob(\"exp1*.ipynb\"))[-1][:-6]\n",
    "        print(f\"filename is {name}\")\n",
    "    else:\n",
    "        name = \"exp1057\"\n",
    "        print(f\"filename is {name}\")\n",
    "else:\n",
    "    name = \"exp1057\"\n",
    "    name = f'bird2024{name}'\n",
    "    print(f\"filename is {name}\")\n",
    "trial = \"trial1\"\n",
    "p_name = f\"BirdCLEF_cv_ver2\"\n"
   ]
  },
  {
   "cell_type": "code",
   "execution_count": 7,
   "id": "0e2b2fbb",
   "metadata": {
    "execution": {
     "iopub.execute_input": "2024-05-05T06:40:41.791964Z",
     "iopub.status.busy": "2024-05-05T06:40:41.791026Z",
     "iopub.status.idle": "2024-05-05T06:40:41.807015Z",
     "shell.execute_reply": "2024-05-05T06:40:41.805895Z"
    },
    "papermill": {
     "duration": 0.075165,
     "end_time": "2024-05-05T06:40:41.809759",
     "exception": false,
     "start_time": "2024-05-05T06:40:41.734594",
     "status": "completed"
    },
    "tags": []
   },
   "outputs": [
    {
     "name": "stdout",
     "output_type": "stream",
     "text": [
      "cpu\n"
     ]
    }
   ],
   "source": [
    "class config:\n",
    "    if KAGGLE:\n",
    "        dir = \"/kaggle/input/birdclef-2024/\"\n",
    "    else:\n",
    "        dir = \"/mnt/d/kaggle/birdclef-2024/\"\n",
    "\n",
    "    # wave_path = \"/mnt/d/kaggle/birdclef-2024/original_waves/second_30/\"\n",
    "    wave_path = \"original_waves/second_30/\"\n",
    "\n",
    "    # model_name = 'eca_nfnet_l0'\n",
    "    model_name = 'tf_efficientnet_b0'\n",
    "\n",
    "    pool_type = 'avg'\n",
    "\n",
    "    \n",
    "    train_duration = 30 ##学習に使うデータの秒数\n",
    "    slice_duration = 5 ##実際にSTFTをして食わせるデータのサイズ\n",
    "\n",
    "    test_duration = 5\n",
    "\n",
    "    train_drop_duration = 1\n",
    "    \n",
    "    ###spectrogram parameters\n",
    "    sr = 32000\n",
    "    fmin = 20\n",
    "    fmax = 15000\n",
    "\n",
    "    n_mels = 128\n",
    "    n_fft = n_mels*8\n",
    "    size_x = 512\n",
    "    \n",
    "    hop_length = int(sr*slice_duration / size_x)\n",
    "    test_hop_length = int(sr*test_duration / size_x)\n",
    "    \n",
    "    bins_per_octave = 12\n",
    "\n",
    "    nfolds = 5\n",
    "    inference_folds = [4]\n",
    "    \n",
    "    enable_amp = True\n",
    "    train_batchsize = 32\n",
    "    valid_batchsize = 1\n",
    "\n",
    "    # loss_type = \"BCEWithLogitsLoss\"\n",
    "    loss_type = \"BCEFocalLoss\"\n",
    "\n",
    "    lr = 1.0e-03 #for tf_efficientnet_b0\n",
    "    # lr = 1.0e-04 #for movilenet\n",
    "    # lr = 1.0e-05 #for movilenet\n",
    "\n",
    "    optimizer='adan'\n",
    "    # optimizer='adamW'\n",
    "    weight_decay = 1.0e-02\n",
    "    es_patience =  5\n",
    "    deterministic = True\n",
    "    enable_amp = True\n",
    "\n",
    "    max_epoch = 9\n",
    "    aug_epoch = 6\n",
    "    \n",
    "\n",
    "    useSecondary =True\n",
    "    secondary_label_value = 0.5\n",
    "    oversample =False\n",
    "    oversample_threthold = 60\n",
    "    \n",
    "    seed = 42\n",
    "\n",
    "    wandb = True\n",
    "\n",
    "    ###augmentation flags\n",
    "    aug_noise            = 0.\n",
    "    aug_gain             = 0.0\n",
    "    aug_wave_pitchshift  = 0.0#効果はあるので入れたいが、重いので実験中は使わない\n",
    "    aug_wave_shift       = 0.\n",
    "\n",
    "    aug_spec_xymasking   = 0.\n",
    "    aug_spec_coarsedrop  = 0.\n",
    "    aug_spec_hflip       = 0.\n",
    "\n",
    "    ##mixup param\n",
    "    aug_wave_mixup       = 1.0\n",
    "    aug_spec_mixup       = 0.0\n",
    "    aug_spec_mixup_prob  = 0.5 #specmixup++をさせる確率\n",
    "    alpha=0.95\n",
    "\n",
    "    smoothing_value      = 0.0\n",
    "    # spec_mix_mask_percent = 20\n",
    "    \n",
    "cfg = config()\n",
    "\n",
    "device = torch.device('cuda:0') if torch.cuda.is_available() else torch.device('cpu')\n",
    "\n",
    "\n",
    "# device = torch.device('cpu')\n",
    "\n",
    "print(device)"
   ]
  },
  {
   "cell_type": "markdown",
   "id": "6ddab544",
   "metadata": {
    "papermill": {
     "duration": 0.054771,
     "end_time": "2024-05-05T06:40:41.919818",
     "exception": false,
     "start_time": "2024-05-05T06:40:41.865047",
     "status": "completed"
    },
    "tags": []
   },
   "source": [
    "## augmentation tools"
   ]
  },
  {
   "cell_type": "code",
   "execution_count": 8,
   "id": "f02bfe77",
   "metadata": {
    "execution": {
     "iopub.execute_input": "2024-05-05T06:40:42.032976Z",
     "iopub.status.busy": "2024-05-05T06:40:42.031663Z",
     "iopub.status.idle": "2024-05-05T06:40:42.037230Z",
     "shell.execute_reply": "2024-05-05T06:40:42.035813Z"
    },
    "papermill": {
     "duration": 0.064819,
     "end_time": "2024-05-05T06:40:42.039679",
     "exception": false,
     "start_time": "2024-05-05T06:40:41.974860",
     "status": "completed"
    },
    "tags": []
   },
   "outputs": [],
   "source": [
    "#https://iver56.github.io/audiomentations/waveform_transforms/add_color_noise/"
   ]
  },
  {
   "cell_type": "code",
   "execution_count": null,
   "id": "93321ecf",
   "metadata": {
    "papermill": {
     "duration": 0.055399,
     "end_time": "2024-05-05T06:40:42.151657",
     "exception": false,
     "start_time": "2024-05-05T06:40:42.096258",
     "status": "completed"
    },
    "tags": []
   },
   "outputs": [],
   "source": []
  },
  {
   "cell_type": "code",
   "execution_count": 9,
   "id": "d6179b4f",
   "metadata": {
    "execution": {
     "iopub.execute_input": "2024-05-05T06:40:42.265289Z",
     "iopub.status.busy": "2024-05-05T06:40:42.264393Z",
     "iopub.status.idle": "2024-05-05T06:40:42.274571Z",
     "shell.execute_reply": "2024-05-05T06:40:42.273583Z"
    },
    "papermill": {
     "duration": 0.069866,
     "end_time": "2024-05-05T06:40:42.276998",
     "exception": false,
     "start_time": "2024-05-05T06:40:42.207132",
     "status": "completed"
    },
    "tags": []
   },
   "outputs": [],
   "source": [
    "if isTrain== True:\n",
    "\n",
    "    normal_augment = Compose([\n",
    "        OneOf([\n",
    "            Gain(min_gain_in_db=-15, max_gain_in_db=15, p=1.0),\n",
    "            GainTransition(min_gain_in_db=-24.0, max_gain_in_db=6.0,\n",
    "                           min_duration=0.2, max_duration=6.0,  p=1.0)\n",
    "        ], p=cfg.aug_gain),\n",
    "        \n",
    "        OneOf([\n",
    "            AddGaussianNoise(p=1),\n",
    "            AddColorNoise(p=1, min_snr_db=5, max_snr_db=20, min_f_decay=-3.01, max_f_decay=-3.01)\n",
    "        ],p=cfg.aug_noise),\n",
    "        # OneOf([\n",
    "        #     AddGaussianNoise(min_amplitude=0.001, max_amplitude=0.002, p=1),\n",
    "        #     AddColorNoise(p=1, max_f_decay=-3.01, min_snr_db=5, max_snr_db=20, n_fft=cfg.n_fft)\n",
    "        # ],p=cfg.aug_noise),\n",
    "    \n",
    "        PitchShift(min_semitones=-1, max_semitones=1, p=cfg.aug_wave_pitchshift),\n",
    "        Shift(p=cfg.aug_wave_shift)\n",
    "    ])\n",
    "    alb_transform = [\n",
    "        ### num_masks_x=1, num_masks_y=1 will change\n",
    "        albumentations.XYMasking(num_masks_x=2, num_masks_y=1, \n",
    "                                 mask_x_length=cfg.size_x//30, mask_y_length=cfg.n_mels//30,\n",
    "                                 fill_value=0, mask_fill_value=0, p=cfg.aug_spec_xymasking),\n",
    "        albumentations.CoarseDropout(fill_value=0, min_holes=20, max_holes=50, p=cfg.aug_spec_coarsedrop),\n",
    "        albumentations.HorizontalFlip(p=cfg.aug_spec_hflip)    \n",
    "    ]\n",
    "    albumentations_augment = albumentations.Compose(alb_transform)"
   ]
  },
  {
   "cell_type": "code",
   "execution_count": 10,
   "id": "23243290",
   "metadata": {
    "execution": {
     "iopub.execute_input": "2024-05-05T06:40:42.390139Z",
     "iopub.status.busy": "2024-05-05T06:40:42.389145Z",
     "iopub.status.idle": "2024-05-05T06:40:42.398625Z",
     "shell.execute_reply": "2024-05-05T06:40:42.397464Z"
    },
    "papermill": {
     "duration": 0.068882,
     "end_time": "2024-05-05T06:40:42.401036",
     "exception": false,
     "start_time": "2024-05-05T06:40:42.332154",
     "status": "completed"
    },
    "tags": []
   },
   "outputs": [],
   "source": [
    "def mixup(data, targets, alpha, mode=\"same_wave\"):\n",
    "    \n",
    "    if mode == \"same_wave\":\n",
    "        data = torch.tensor(data)\n",
    "        indices = torch.randperm(data.size(0))\n",
    "        shuffled_data = data[indices]\n",
    "        # shuffled_targets = targets[indices]\n",
    "        #print(indices)\n",
    "        lam = np.random.beta(alpha, alpha)\n",
    "        #print(lam)\n",
    "        new_data = data * lam + shuffled_data * (1 - lam)\n",
    "        # new_targets = targets * lam + shuffled_targets * (1 - lam)\n",
    "        return new_data.numpy()\n",
    "        \n",
    "    elif mode == \"other_wave\":\n",
    "        indices = torch.randperm(data.size(0))\n",
    "        shuffled_data = data[indices]\n",
    "        shuffled_targets = targets[indices]\n",
    "    \n",
    "        lam = np.random.beta(alpha, alpha)\n",
    "        new_data = data * lam + shuffled_data * (1 - lam)\n",
    "        new_targets = targets * lam + shuffled_targets * (1 - lam)\n",
    "    \n",
    "        return new_data, new_targets"
   ]
  },
  {
   "cell_type": "code",
   "execution_count": 11,
   "id": "92af10a2",
   "metadata": {
    "execution": {
     "iopub.execute_input": "2024-05-05T06:40:42.514339Z",
     "iopub.status.busy": "2024-05-05T06:40:42.513498Z",
     "iopub.status.idle": "2024-05-05T06:40:42.524272Z",
     "shell.execute_reply": "2024-05-05T06:40:42.523171Z"
    },
    "papermill": {
     "duration": 0.069729,
     "end_time": "2024-05-05T06:40:42.526722",
     "exception": false,
     "start_time": "2024-05-05T06:40:42.456993",
     "status": "completed"
    },
    "tags": []
   },
   "outputs": [],
   "source": [
    "if isTrain== True:\n",
    "    spec_xymasking = albumentations.XYMasking(num_masks_x=2, num_masks_y=1, \n",
    "                                              mask_x_length=cfg.size_x // 10, mask_y_length=cfg.n_mels // 10,\n",
    "                                              fill_value=0, mask_fill_value=0, p=1)\n",
    "\n",
    "def spec_mixup(data, targets):\n",
    "    type = data.dtype\n",
    "\n",
    "    indices = torch.randperm(data.size(0))\n",
    "    # print(indices)\n",
    "    shuffled_data = data[indices]\n",
    "    shuffled_targets = targets[indices]\n",
    "\n",
    "    ##masking\n",
    "    data = np.array(data)\n",
    "    data_transposed = np.transpose(data, (2, 3, 1, 0))\n",
    "    data_transposed = spec_xymasking(image=data_transposed)[\"image\"]\n",
    "    data_transposed = np.transpose(data_transposed, (3, 2, 0, 1))  \n",
    "\n",
    "    ##masking した場所を取り出す\n",
    "    diff = data - data_transposed\n",
    "    mask = (diff != 0).astype(int)\n",
    "\n",
    "    ##mask箇所を、ほかのデータから取り出す\n",
    "    shuffled_data_masked = (shuffled_data * mask)\n",
    "\n",
    "    ##mixup\n",
    "    new_data = torch.tensor(data_transposed, dtype=type) + torch.tensor(shuffled_data_masked, dtype=type)\n",
    "\n",
    "    #lamはmask量で決める\n",
    "    # print(data.size(0))\n",
    "    lam = mask.sum() / len(data) / (cfg.n_mels*cfg.size_x)\n",
    "    # print(lam)\n",
    "    new_targets = targets * (1-lam) + shuffled_targets *lam\n",
    "\n",
    "    return new_data, new_targets"
   ]
  },
  {
   "cell_type": "code",
   "execution_count": 12,
   "id": "d8b044d3",
   "metadata": {
    "execution": {
     "iopub.execute_input": "2024-05-05T06:40:42.640442Z",
     "iopub.status.busy": "2024-05-05T06:40:42.639616Z",
     "iopub.status.idle": "2024-05-05T06:40:42.757304Z",
     "shell.execute_reply": "2024-05-05T06:40:42.756243Z"
    },
    "papermill": {
     "duration": 0.177609,
     "end_time": "2024-05-05T06:40:42.760049",
     "exception": false,
     "start_time": "2024-05-05T06:40:42.582440",
     "status": "completed"
    },
    "tags": []
   },
   "outputs": [],
   "source": [
    "spec_layer = torchaudio.transforms.MelSpectrogram(\n",
    "    sample_rate=cfg.sr, hop_length=cfg.hop_length, n_fft=cfg.n_fft,\n",
    "    n_mels=cfg.n_mels,f_min=cfg.fmin,f_max=cfg.fmax,mel_scale='slaney',center=True, pad_mode='reflect'\n",
    "    # normalized=True\n",
    ").to(device)\n",
    "\n",
    "valid_spec_layer = torchaudio.transforms.MelSpectrogram(\n",
    "    sample_rate=cfg.sr, hop_length=cfg.test_hop_length, n_fft=cfg.n_fft,\n",
    "    n_mels=cfg.n_mels,f_min=cfg.fmin,f_max=cfg.fmax,mel_scale='slaney',center=True, pad_mode='reflect'\n",
    "    # normalized=True\n",
    ").to(device)\n",
    "\n",
    "test_spec_layer = torchaudio.transforms.MelSpectrogram(\n",
    "    sample_rate=cfg.sr, hop_length=cfg.test_hop_length, n_fft=cfg.n_fft,\n",
    "    n_mels=cfg.n_mels,f_min=cfg.fmin,f_max=cfg.fmax,mel_scale='slaney',center=True, pad_mode='reflect'\n",
    "    # normalized=True\n",
    ").cpu()"
   ]
  },
  {
   "cell_type": "code",
   "execution_count": 13,
   "id": "6e874124",
   "metadata": {
    "execution": {
     "iopub.execute_input": "2024-05-05T06:40:42.873243Z",
     "iopub.status.busy": "2024-05-05T06:40:42.872817Z",
     "iopub.status.idle": "2024-05-05T06:40:42.878162Z",
     "shell.execute_reply": "2024-05-05T06:40:42.877209Z"
    },
    "papermill": {
     "duration": 0.06431,
     "end_time": "2024-05-05T06:40:42.880662",
     "exception": false,
     "start_time": "2024-05-05T06:40:42.816352",
     "status": "completed"
    },
    "tags": []
   },
   "outputs": [
    {
     "name": "stdout",
     "output_type": "stream",
     "text": [
      "False\n"
     ]
    }
   ],
   "source": [
    "print(newDir)"
   ]
  },
  {
   "cell_type": "code",
   "execution_count": 14,
   "id": "36665bcf",
   "metadata": {
    "execution": {
     "iopub.execute_input": "2024-05-05T06:40:42.992934Z",
     "iopub.status.busy": "2024-05-05T06:40:42.992209Z",
     "iopub.status.idle": "2024-05-05T06:40:42.998834Z",
     "shell.execute_reply": "2024-05-05T06:40:42.997755Z"
    },
    "papermill": {
     "duration": 0.065661,
     "end_time": "2024-05-05T06:40:43.001349",
     "exception": false,
     "start_time": "2024-05-05T06:40:42.935688",
     "status": "completed"
    },
    "tags": []
   },
   "outputs": [],
   "source": [
    "if KAGGLE == False:\n",
    "    if cfg.wandb == True:\n",
    "        wandb.login(key=\"1def2aa62f171b4a95415cc2ad76b5eb1bb37b41\")\n",
    "\n",
    "    if newDir == True:\n",
    "        new_dir_path_recursive = f\"{name}/checkpoint\"\n",
    "    \n",
    "        os.makedirs(new_dir_path_recursive, exist_ok=True)\n",
    "        shutil.rmtree(new_dir_path_recursive)\n",
    "        os.makedirs(new_dir_path_recursive, exist_ok=True)"
   ]
  },
  {
   "cell_type": "markdown",
   "id": "ecf83fd8",
   "metadata": {
    "papermill": {
     "duration": 0.055349,
     "end_time": "2024-05-05T06:40:43.113149",
     "exception": false,
     "start_time": "2024-05-05T06:40:43.057800",
     "status": "completed"
    },
    "tags": []
   },
   "source": [
    "---"
   ]
  },
  {
   "cell_type": "markdown",
   "id": "500ebf10",
   "metadata": {
    "papermill": {
     "duration": 0.05515,
     "end_time": "2024-05-05T06:40:43.223671",
     "exception": false,
     "start_time": "2024-05-05T06:40:43.168521",
     "status": "completed"
    },
    "tags": []
   },
   "source": [
    "# csv preprocessing"
   ]
  },
  {
   "cell_type": "code",
   "execution_count": 15,
   "id": "66ce0b43",
   "metadata": {
    "execution": {
     "iopub.execute_input": "2024-05-05T06:40:43.336644Z",
     "iopub.status.busy": "2024-05-05T06:40:43.336185Z",
     "iopub.status.idle": "2024-05-05T06:40:43.373317Z",
     "shell.execute_reply": "2024-05-05T06:40:43.372160Z"
    },
    "papermill": {
     "duration": 0.096012,
     "end_time": "2024-05-05T06:40:43.375701",
     "exception": false,
     "start_time": "2024-05-05T06:40:43.279689",
     "status": "completed"
    },
    "tags": []
   },
   "outputs": [
    {
     "data": {
      "text/plain": [
       "['asbfly', 'ashdro1', 'ashpri1', 'ashwoo2', 'asikoe2']"
      ]
     },
     "execution_count": 15,
     "metadata": {},
     "output_type": "execute_result"
    }
   ],
   "source": [
    "sample_submission = pd.read_csv(cfg.dir+\"sample_submission.csv\")\n",
    "LABELS = list(sample_submission.set_index(\"row_id\").columns)\n",
    "LABELS[:5]"
   ]
  },
  {
   "cell_type": "code",
   "execution_count": 16,
   "id": "bd6c09d8",
   "metadata": {
    "execution": {
     "iopub.execute_input": "2024-05-05T06:40:43.490895Z",
     "iopub.status.busy": "2024-05-05T06:40:43.490495Z",
     "iopub.status.idle": "2024-05-05T06:40:43.524204Z",
     "shell.execute_reply": "2024-05-05T06:40:43.523176Z"
    },
    "papermill": {
     "duration": 0.094677,
     "end_time": "2024-05-05T06:40:43.526681",
     "exception": false,
     "start_time": "2024-05-05T06:40:43.432004",
     "status": "completed"
    },
    "tags": []
   },
   "outputs": [
    {
     "data": {
      "text/html": [
       "<div>\n",
       "<style scoped>\n",
       "    .dataframe tbody tr th:only-of-type {\n",
       "        vertical-align: middle;\n",
       "    }\n",
       "\n",
       "    .dataframe tbody tr th {\n",
       "        vertical-align: top;\n",
       "    }\n",
       "\n",
       "    .dataframe thead th {\n",
       "        text-align: right;\n",
       "    }\n",
       "</style>\n",
       "<table border=\"1\" class=\"dataframe\">\n",
       "  <thead>\n",
       "    <tr style=\"text-align: right;\">\n",
       "      <th></th>\n",
       "      <th>row_id</th>\n",
       "      <th>asbfly</th>\n",
       "      <th>ashdro1</th>\n",
       "      <th>ashpri1</th>\n",
       "      <th>ashwoo2</th>\n",
       "      <th>asikoe2</th>\n",
       "      <th>asiope1</th>\n",
       "      <th>aspfly1</th>\n",
       "      <th>aspswi1</th>\n",
       "      <th>barfly1</th>\n",
       "      <th>...</th>\n",
       "      <th>whbwoo2</th>\n",
       "      <th>whcbar1</th>\n",
       "      <th>whiter2</th>\n",
       "      <th>whrmun</th>\n",
       "      <th>whtkin2</th>\n",
       "      <th>woosan</th>\n",
       "      <th>wynlau1</th>\n",
       "      <th>yebbab1</th>\n",
       "      <th>yebbul3</th>\n",
       "      <th>zitcis1</th>\n",
       "    </tr>\n",
       "  </thead>\n",
       "  <tbody>\n",
       "    <tr>\n",
       "      <th>0</th>\n",
       "      <td>soundscape_1446779_5</td>\n",
       "      <td>0.005495</td>\n",
       "      <td>0.005495</td>\n",
       "      <td>0.005495</td>\n",
       "      <td>0.005495</td>\n",
       "      <td>0.005495</td>\n",
       "      <td>0.005495</td>\n",
       "      <td>0.005495</td>\n",
       "      <td>0.005495</td>\n",
       "      <td>0.005495</td>\n",
       "      <td>...</td>\n",
       "      <td>0.005495</td>\n",
       "      <td>0.005495</td>\n",
       "      <td>0.005495</td>\n",
       "      <td>0.005495</td>\n",
       "      <td>0.005495</td>\n",
       "      <td>0.005495</td>\n",
       "      <td>0.005495</td>\n",
       "      <td>0.005495</td>\n",
       "      <td>0.005495</td>\n",
       "      <td>0.005495</td>\n",
       "    </tr>\n",
       "    <tr>\n",
       "      <th>1</th>\n",
       "      <td>soundscape_1446779_10</td>\n",
       "      <td>0.005495</td>\n",
       "      <td>0.005495</td>\n",
       "      <td>0.005495</td>\n",
       "      <td>0.005495</td>\n",
       "      <td>0.005495</td>\n",
       "      <td>0.005495</td>\n",
       "      <td>0.005495</td>\n",
       "      <td>0.005495</td>\n",
       "      <td>0.005495</td>\n",
       "      <td>...</td>\n",
       "      <td>0.005495</td>\n",
       "      <td>0.005495</td>\n",
       "      <td>0.005495</td>\n",
       "      <td>0.005495</td>\n",
       "      <td>0.005495</td>\n",
       "      <td>0.005495</td>\n",
       "      <td>0.005495</td>\n",
       "      <td>0.005495</td>\n",
       "      <td>0.005495</td>\n",
       "      <td>0.005495</td>\n",
       "    </tr>\n",
       "    <tr>\n",
       "      <th>2</th>\n",
       "      <td>soundscape_1446779_15</td>\n",
       "      <td>0.005495</td>\n",
       "      <td>0.005495</td>\n",
       "      <td>0.005495</td>\n",
       "      <td>0.005495</td>\n",
       "      <td>0.005495</td>\n",
       "      <td>0.005495</td>\n",
       "      <td>0.005495</td>\n",
       "      <td>0.005495</td>\n",
       "      <td>0.005495</td>\n",
       "      <td>...</td>\n",
       "      <td>0.005495</td>\n",
       "      <td>0.005495</td>\n",
       "      <td>0.005495</td>\n",
       "      <td>0.005495</td>\n",
       "      <td>0.005495</td>\n",
       "      <td>0.005495</td>\n",
       "      <td>0.005495</td>\n",
       "      <td>0.005495</td>\n",
       "      <td>0.005495</td>\n",
       "      <td>0.005495</td>\n",
       "    </tr>\n",
       "  </tbody>\n",
       "</table>\n",
       "<p>3 rows × 183 columns</p>\n",
       "</div>"
      ],
      "text/plain": [
       "                  row_id    asbfly   ashdro1   ashpri1   ashwoo2   asikoe2  \\\n",
       "0   soundscape_1446779_5  0.005495  0.005495  0.005495  0.005495  0.005495   \n",
       "1  soundscape_1446779_10  0.005495  0.005495  0.005495  0.005495  0.005495   \n",
       "2  soundscape_1446779_15  0.005495  0.005495  0.005495  0.005495  0.005495   \n",
       "\n",
       "    asiope1   aspfly1   aspswi1   barfly1  ...   whbwoo2   whcbar1   whiter2  \\\n",
       "0  0.005495  0.005495  0.005495  0.005495  ...  0.005495  0.005495  0.005495   \n",
       "1  0.005495  0.005495  0.005495  0.005495  ...  0.005495  0.005495  0.005495   \n",
       "2  0.005495  0.005495  0.005495  0.005495  ...  0.005495  0.005495  0.005495   \n",
       "\n",
       "     whrmun   whtkin2    woosan   wynlau1   yebbab1   yebbul3   zitcis1  \n",
       "0  0.005495  0.005495  0.005495  0.005495  0.005495  0.005495  0.005495  \n",
       "1  0.005495  0.005495  0.005495  0.005495  0.005495  0.005495  0.005495  \n",
       "2  0.005495  0.005495  0.005495  0.005495  0.005495  0.005495  0.005495  \n",
       "\n",
       "[3 rows x 183 columns]"
      ]
     },
     "execution_count": 16,
     "metadata": {},
     "output_type": "execute_result"
    }
   ],
   "source": [
    "sample_submission"
   ]
  },
  {
   "cell_type": "code",
   "execution_count": 17,
   "id": "d15e7d9d",
   "metadata": {
    "execution": {
     "iopub.execute_input": "2024-05-05T06:40:43.642061Z",
     "iopub.status.busy": "2024-05-05T06:40:43.641332Z",
     "iopub.status.idle": "2024-05-05T06:40:43.921984Z",
     "shell.execute_reply": "2024-05-05T06:40:43.920951Z"
    },
    "papermill": {
     "duration": 0.34179,
     "end_time": "2024-05-05T06:40:43.924701",
     "exception": false,
     "start_time": "2024-05-05T06:40:43.582911",
     "status": "completed"
    },
    "tags": []
   },
   "outputs": [],
   "source": [
    "# if isTrain:\n",
    "if KAGGLE == False:\n",
    "    train_csv = pd.read_csv(cfg.dir+\"train_eda.csv\")\n",
    "    train_csv[\"fileID\"] = train_csv[\"filename\"].map(lambda x:x.split(\"/\")[1][:-4])\n",
    "    train_csv.head(2)\n",
    "else:\n",
    "    train_csv = pd.read_csv(cfg.dir+\"train_metadata.csv\")"
   ]
  },
  {
   "cell_type": "code",
   "execution_count": 18,
   "id": "bd6baf98",
   "metadata": {
    "execution": {
     "iopub.execute_input": "2024-05-05T06:40:44.038714Z",
     "iopub.status.busy": "2024-05-05T06:40:44.037861Z",
     "iopub.status.idle": "2024-05-05T06:40:44.607804Z",
     "shell.execute_reply": "2024-05-05T06:40:44.606675Z"
    },
    "papermill": {
     "duration": 0.629491,
     "end_time": "2024-05-05T06:40:44.610300",
     "exception": false,
     "start_time": "2024-05-05T06:40:43.980809",
     "status": "completed"
    },
    "tags": []
   },
   "outputs": [
    {
     "data": {
      "text/plain": [
       "<Axes: xlabel='len_new_target'>"
      ]
     },
     "execution_count": 18,
     "metadata": {},
     "output_type": "execute_result"
    },
    {
     "data": {
      "image/png": "[encoded data removed]",
      "text/plain": [
       "<Figure size 400x200 with 1 Axes>"
      ]
     },
     "metadata": {},
     "output_type": "display_data"
    }
   ],
   "source": [
    "import ast\n",
    "train_csv['new_target'] = train_csv['primary_label'] + ' ' + train_csv['secondary_labels'].map(lambda x: ' '.join(ast.literal_eval(x)))\n",
    "train_csv['len_new_target'] =train_csv['new_target'].map(lambda x: len(x.split()))\n",
    "train_csv[\"len_new_target\"].value_counts().plot(kind=\"bar\", figsize=(4,2))"
   ]
  },
  {
   "cell_type": "code",
   "execution_count": 19,
   "id": "d009476a",
   "metadata": {
    "execution": {
     "iopub.execute_input": "2024-05-05T06:40:44.725986Z",
     "iopub.status.busy": "2024-05-05T06:40:44.725579Z",
     "iopub.status.idle": "2024-05-05T06:40:44.753017Z",
     "shell.execute_reply": "2024-05-05T06:40:44.751781Z"
    },
    "papermill": {
     "duration": 0.08775,
     "end_time": "2024-05-05T06:40:44.755495",
     "exception": false,
     "start_time": "2024-05-05T06:40:44.667745",
     "status": "completed"
    },
    "tags": []
   },
   "outputs": [],
   "source": [
    "train_csv[\"filename_tmp\"] = train_csv[\"filename\"].map(lambda x:x.split(\"/\")[1][:-4])"
   ]
  },
  {
   "cell_type": "code",
   "execution_count": 20,
   "id": "d8f7d01e",
   "metadata": {
    "execution": {
     "iopub.execute_input": "2024-05-05T06:40:44.871883Z",
     "iopub.status.busy": "2024-05-05T06:40:44.871479Z",
     "iopub.status.idle": "2024-05-05T06:40:44.911898Z",
     "shell.execute_reply": "2024-05-05T06:40:44.910765Z"
    },
    "papermill": {
     "duration": 0.101547,
     "end_time": "2024-05-05T06:40:44.914698",
     "exception": false,
     "start_time": "2024-05-05T06:40:44.813151",
     "status": "completed"
    },
    "tags": []
   },
   "outputs": [],
   "source": [
    "duplicated_filenames = train_csv[\"filename_tmp\"].value_counts()[train_csv[\"filename_tmp\"].value_counts() > 1].index"
   ]
  },
  {
   "cell_type": "code",
   "execution_count": 21,
   "id": "940c9f55",
   "metadata": {
    "execution": {
     "iopub.execute_input": "2024-05-05T06:40:45.028896Z",
     "iopub.status.busy": "2024-05-05T06:40:45.028088Z",
     "iopub.status.idle": "2024-05-05T06:40:45.035402Z",
     "shell.execute_reply": "2024-05-05T06:40:45.034288Z"
    },
    "papermill": {
     "duration": 0.067155,
     "end_time": "2024-05-05T06:40:45.037716",
     "exception": false,
     "start_time": "2024-05-05T06:40:44.970561",
     "status": "completed"
    },
    "tags": []
   },
   "outputs": [
    {
     "data": {
      "text/plain": [
       "Index(['XC503389', 'XC306398', 'XC514027', 'XC447036', 'XC522123', 'XC403621',\n",
       "       'XC574864', 'XC184466', 'XC659329', 'XC467373', 'XC209564', 'XC581045',\n",
       "       'XC239509', 'XC209549', 'XC163901', 'XC674522', 'XC208795', 'XC208794',\n",
       "       'XC209203'],\n",
       "      dtype='object', name='filename_tmp')"
      ]
     },
     "execution_count": 21,
     "metadata": {},
     "output_type": "execute_result"
    }
   ],
   "source": [
    "duplicated_filenames"
   ]
  },
  {
   "cell_type": "code",
   "execution_count": 22,
   "id": "2d385079",
   "metadata": {
    "execution": {
     "iopub.execute_input": "2024-05-05T06:40:45.153158Z",
     "iopub.status.busy": "2024-05-05T06:40:45.152732Z",
     "iopub.status.idle": "2024-05-05T06:40:45.184408Z",
     "shell.execute_reply": "2024-05-05T06:40:45.183380Z"
    },
    "papermill": {
     "duration": 0.092403,
     "end_time": "2024-05-05T06:40:45.187048",
     "exception": false,
     "start_time": "2024-05-05T06:40:45.094645",
     "status": "completed"
    },
    "tags": []
   },
   "outputs": [],
   "source": [
    "train_csv = train_csv[~train_csv[\"filename_tmp\"].isin(duplicated_filenames)]\n",
    "train_csv = train_csv.reset_index(drop=True)"
   ]
  },
  {
   "cell_type": "markdown",
   "id": "b6b716b0",
   "metadata": {
    "papermill": {
     "duration": 0.056676,
     "end_time": "2024-05-05T06:40:45.302660",
     "exception": false,
     "start_time": "2024-05-05T06:40:45.245984",
     "status": "completed"
    },
    "tags": []
   },
   "source": [
    "# Dataset"
   ]
  },
  {
   "cell_type": "code",
   "execution_count": 23,
   "id": "fb3f2bc3",
   "metadata": {
    "execution": {
     "iopub.execute_input": "2024-05-05T06:40:45.417846Z",
     "iopub.status.busy": "2024-05-05T06:40:45.417379Z",
     "iopub.status.idle": "2024-05-05T06:40:45.463462Z",
     "shell.execute_reply": "2024-05-05T06:40:45.462268Z"
    },
    "papermill": {
     "duration": 0.106892,
     "end_time": "2024-05-05T06:40:45.466013",
     "exception": false,
     "start_time": "2024-05-05T06:40:45.359121",
     "status": "completed"
    },
    "tags": []
   },
   "outputs": [],
   "source": [
    "class BirdCLEF_Dataset(torch.utils.data.Dataset):\n",
    "    def __init__(self, df, augmentation=False, mode='train'):\n",
    "        if mode == 'train':\n",
    "            self.df = df.reset_index(drop=True)\n",
    "        elif mode == 'valid':\n",
    "            self.df = df.reset_index(drop=True)\n",
    "        else:\n",
    "            self.df = df\n",
    "        self.mode = mode\n",
    "        self.augmentation = augmentation\n",
    "    \n",
    "    def __len__(self):\n",
    "        return len(self.df)\n",
    "\n",
    "    def normalize(self, x):\n",
    "        valid_values = x[x != float('-inf')]\n",
    "        mean_value = np.mean(valid_values)\n",
    "        x[x == float('-inf')] = mean_value\n",
    "        # x[x == float('-inf')] = 0\n",
    "\n",
    "        x = x - x.min()\n",
    "        x = x / x.max()\n",
    "        return x\n",
    "\n",
    "    def wave_tile_and_cutoff(self, data):\n",
    "        ### ---PREPROCESS wave length to train duration & slice duration-----\n",
    "        drop_duration = cfg.sr*cfg.train_drop_duration\n",
    "        use_duration  = cfg.sr*cfg.train_duration\n",
    "        \n",
    "        if len(data[0]) > drop_duration: #最初の1秒を捨てる\n",
    "            data = data[:,drop_duration:]\n",
    "\n",
    "        if len(data[0]) < use_duration: #30秒に満たない場合はタイルする\n",
    "            iter = 1 + (use_duration) // len(data[0])\n",
    "            data = np.tile(data, (1, iter))\n",
    "\n",
    "        data = data[:,:use_duration]\n",
    "        return data\n",
    "\n",
    "    def label_smoothing(self, idx, target):\n",
    "    \n",
    "        secondary_target = target * cfg.secondary_label_value\n",
    "    \n",
    "        out_of_target_noise_intensity = cfg.smoothing_value/(len(LABELS)-1) #該当label以外に、smootiong_valueを分散させる\n",
    "        out_of_target_noise_array = torch.ones(target.shape) * out_of_target_noise_intensity\n",
    "        \n",
    "        secondary_target_with_noise = secondary_target + out_of_target_noise_array\n",
    "        secondary_target_with_noise = torch.clip(secondary_target_with_noise, min=0, max=cfg.secondary_label_value)\n",
    "    \n",
    "        primary_target = np.isin(LABELS, self.df.loc[idx, \"primary_label\"]).astype(int)\n",
    "        primary_target = torch.tensor(primary_target, dtype=torch.float32)\n",
    "\n",
    "        primary_and_secondary_target_with_noise = primary_target + secondary_target_with_noise\n",
    "        new_target = torch.clip(primary_and_secondary_target_with_noise, min=0, max=1)\n",
    "    \n",
    "        new_target = new_target - primary_target * cfg.smoothing_value\n",
    "    \n",
    "        return new_target\n",
    "\n",
    "    \n",
    "    def __getitem__(self, idx):\n",
    "\n",
    "        if self.mode == 'train':\n",
    "\n",
    "            ### ------------------READ DATA  ------------------------------------\n",
    "            if cfg.useSecondary == True:\n",
    "                target = np.isin(LABELS, self.df.loc[idx, \"new_target\"].split()).astype(int)\n",
    "            else:\n",
    "                target = np.isin(LABELS, self.df.loc[idx, \"primary_label\"].split()).astype(int)\n",
    "            target = torch.tensor(target, dtype=torch.float32)\n",
    "            ### ------------------label smoothing  --------------------------\n",
    "            target = self.label_smoothing(idx, target)\n",
    "            \n",
    "            fileID = self.df.loc[idx, 'fileID'] #filename : ****/****.ogg\n",
    "            \n",
    "            path = f\"{cfg.wave_path}{fileID}.npy\"\n",
    "            wave = np.load(path)\n",
    "            ### -----------------------------------------------------------------\n",
    "\n",
    "            # ---PREPROCESS wave length to train duration & slice duration-------\n",
    "            wave = self.wave_tile_and_cutoff(data=wave)\n",
    "\n",
    "            \n",
    "            input_duration = cfg.sr * cfg.slice_duration\n",
    "            # middle_shift = cfg.sr * cfg.train_duration // 2 \n",
    "            \n",
    "            if self.augmentation == True:\n",
    "                ### ------------------wave time mixup  --------------------------\n",
    "                if cfg.aug_wave_mixup > np.random.random(): #同じwave内でmixupをする\n",
    "                    #train_duration -> slice_duration\n",
    "                    wave_reshape = wave.reshape(-1, input_duration)\n",
    "                    wave = mixup(data=wave_reshape, targets=target, alpha=cfg.alpha, mode=\"same_wave\")\n",
    "                    wave = wave[:1,:]\n",
    "                else:\n",
    "                    wave = wave[:, :input_duration]\n",
    "                \n",
    "                ### ------------------wave augmentation  ------------------------\n",
    "                wave = normal_augment(samples=wave, sample_rate=cfg.sr)\n",
    "\n",
    "                ### ------------------MAKE SPECTROGRAM  -------------------------\n",
    "                wave = torch.tensor(wave).to(device)\n",
    "                mel_spec = spec_layer(wave)\n",
    "                mel_spec = np.array(mel_spec.cpu())\n",
    "\n",
    "                mel_spec = np.log(mel_spec)\n",
    "                for i in range(len(mel_spec)):\n",
    "                    mel_spec[i] = self.normalize(mel_spec[i])\n",
    "                mel_spec = torch.tensor(mel_spec)\n",
    "                mel_spec = mel_spec[:,:,:cfg.size_x]\n",
    "\n",
    "                ### ------------------spec augmentation  ------------------------\n",
    "                mel_spec = np.array(mel_spec.cpu())\n",
    "                mel_spec = np.transpose(mel_spec, (1, 2, 0))                \n",
    "                mel_spec = albumentations_augment(image=mel_spec)[\"image\"]\n",
    "                mel_spec = np.transpose(mel_spec, (2, 0, 1))\n",
    "\n",
    "                # ### ------------------label smoothing  --------------------------\n",
    "                # target = self.label_smoothing(idx, target)\n",
    "                \n",
    "            else:\n",
    "                wave = wave[:, :input_duration]\n",
    "                \n",
    "                ### ------------------MAKE SPECTROGRAM  -------------------------\n",
    "                wave = torch.tensor(wave).to(device)\n",
    "                mel_spec = spec_layer(wave)\n",
    "                mel_spec = np.array(mel_spec.cpu())\n",
    "\n",
    "                mel_spec = np.log(mel_spec)\n",
    "\n",
    "                for i in range(len(mel_spec)):\n",
    "                    mel_spec[i] = self.normalize(mel_spec[i])\n",
    "                    \n",
    "\n",
    "                mel_spec = torch.tensor(mel_spec)\n",
    "                mel_spec = mel_spec[:,:,:cfg.size_x]\n",
    "\n",
    "            \n",
    "            mel_spec = torch.tensor(mel_spec)\n",
    "\n",
    "            \n",
    "            return mel_spec, target\n",
    "\n",
    "        elif self.mode == 'valid':\n",
    "            \n",
    "            ### ------------------READ DATA  ------------------------------------\n",
    "            if cfg.useSecondary == True:\n",
    "                target = np.isin(LABELS, self.df.loc[idx, \"new_target\"].split()).astype(int)\n",
    "            else:\n",
    "                target = np.isin(LABELS, self.df.loc[idx, \"primary_target\"].split()).astype(int)\n",
    "            target = torch.tensor(target, dtype=torch.float32)\n",
    "            \n",
    "            fileID = self.df.loc[idx, 'fileID'] #filename : ****/****.ogg\n",
    "            \n",
    "            path = f\"{cfg.wave_path}{fileID}.npy\"\n",
    "            wave = np.load(path)\n",
    "            ### -----------------------------------------------------------------\n",
    "\n",
    "            # ---PREPROCESS wave length to train duration & slice duration-------\n",
    "            wave = self.wave_tile_and_cutoff(data=wave)\n",
    "\n",
    "            input_duration = cfg.sr*cfg.test_duration\n",
    "            wave_reshape = wave.reshape(-1, input_duration)\n",
    "\n",
    "            wave_reshape = torch.tensor(wave_reshape).to(device)\n",
    "            mel_specs = valid_spec_layer(wave_reshape)\n",
    "            mel_specs = mel_specs.cpu().numpy()\n",
    "\n",
    "            mel_specs = np.log(mel_specs)\n",
    "            for i in range(len(mel_specs)):\n",
    "                mel_specs[i] = self.normalize(mel_specs[i])\n",
    "            mel_specs = torch.tensor(mel_specs)\n",
    "            \n",
    "            mel_specs = mel_specs[:,:,:cfg.size_x]\n",
    "\n",
    "            targets = torch.tile(target, dims=(mel_specs.shape[0],1))\n",
    "            return mel_specs, targets\n",
    "\n",
    "        ###---------------------------------------------------------------------------------------------------------------------\n",
    "        elif self.mode == 'test':\n",
    "\n",
    "            filepath = self.df[idx]\n",
    "            wave, _  = torchaudio.load(filepath)\n",
    "            wave = wave[:,:60*4*32000]\n",
    "\n",
    "            wave_reshaped = wave.reshape(-1, 1, cfg.test_duration*cfg.sr)\n",
    "            \n",
    "            mel_spec = test_spec_layer(wave_reshaped)\n",
    "            mel_spec = np.log(mel_spec)\n",
    "\n",
    "            mel_spec = np.array(mel_spec)\n",
    "            for i in range(len(mel_spec)):\n",
    "                mel_spec[i] = self.normalize(mel_spec[i])\n",
    "            mel_spec = torch.tensor(mel_spec)\n",
    "\n",
    "            mel_spec = mel_spec[:,:,:cfg.size_x]\n",
    "            return mel_spec\n",
    "\n",
    "        elif self.mode == 'clean':\n",
    "\n",
    "            filepath = self.df[idx]\n",
    "            wave, _  = torchaudio.load(filepath)\n",
    "\n",
    "            wave = wave[:, :6*cfg.test_duration*cfg.sr]\n",
    "\n",
    "            chunk_length = len(wave[0]) // (cfg.test_duration*cfg.sr)\n",
    "            \n",
    "            wave = wave[:,:chunk_length*cfg.test_duration*cfg.sr]\n",
    "\n",
    "            wave_reshaped = wave.reshape(-1, 1, cfg.test_duration*cfg.sr)\n",
    "            \n",
    "            mel_spec = test_spec_layer(wave_reshaped)\n",
    "            mel_spec = np.log(mel_spec)\n",
    "\n",
    "            mel_spec = np.array(mel_spec)\n",
    "            for i in range(len(mel_spec)):\n",
    "                mel_spec[i] = self.normalize(mel_spec[i])\n",
    "            mel_spec = torch.tensor(mel_spec)\n",
    "\n",
    "            return mel_spec, filepath"
   ]
  },
  {
   "cell_type": "code",
   "execution_count": 24,
   "id": "8796f065",
   "metadata": {
    "execution": {
     "iopub.execute_input": "2024-05-05T06:40:45.580930Z",
     "iopub.status.busy": "2024-05-05T06:40:45.580064Z",
     "iopub.status.idle": "2024-05-05T06:40:45.589203Z",
     "shell.execute_reply": "2024-05-05T06:40:45.588003Z"
    },
    "papermill": {
     "duration": 0.06918,
     "end_time": "2024-05-05T06:40:45.591710",
     "exception": false,
     "start_time": "2024-05-05T06:40:45.522530",
     "status": "completed"
    },
    "tags": []
   },
   "outputs": [],
   "source": [
    "if isTrain:\n",
    "    print(\"train data\")\n",
    "    dataset = BirdCLEF_Dataset(df=train_csv, augmentation=True,  mode=\"train\")\n",
    "    data, target = dataset[270]\n",
    "    fig, ax = plt.subplots(figsize=(6,4))\n",
    "    plt.imshow(data[0], cmap=\"jet\", origin=\"lower\")\n",
    "    plt.show()\n",
    "    \n",
    "    print(\"validation data\")\n",
    "    dataset = BirdCLEF_Dataset(df=train_csv, augmentation=True,  mode=\"valid\")\n",
    "    data, target = dataset[270]\n",
    "    fig, axes = plt.subplots(figsize=(12,8), nrows=len(data), tight_layout=True)\n",
    "    for idx, ax in enumerate(axes.ravel()):\n",
    "        ax.imshow(data[idx], cmap=\"jet\", origin=\"lower\")"
   ]
  },
  {
   "cell_type": "code",
   "execution_count": 25,
   "id": "9ffdcebb",
   "metadata": {
    "execution": {
     "iopub.execute_input": "2024-05-05T06:40:45.706167Z",
     "iopub.status.busy": "2024-05-05T06:40:45.705737Z",
     "iopub.status.idle": "2024-05-05T06:40:45.710294Z",
     "shell.execute_reply": "2024-05-05T06:40:45.709261Z"
    },
    "papermill": {
     "duration": 0.064519,
     "end_time": "2024-05-05T06:40:45.712670",
     "exception": false,
     "start_time": "2024-05-05T06:40:45.648151",
     "status": "completed"
    },
    "tags": []
   },
   "outputs": [],
   "source": [
    "#break"
   ]
  },
  {
   "cell_type": "markdown",
   "id": "81887f0d",
   "metadata": {
    "papermill": {
     "duration": 0.057512,
     "end_time": "2024-05-05T06:40:45.826409",
     "exception": false,
     "start_time": "2024-05-05T06:40:45.768897",
     "status": "completed"
    },
    "tags": []
   },
   "source": [
    "# Model"
   ]
  },
  {
   "cell_type": "markdown",
   "id": "b7feb593",
   "metadata": {
    "papermill": {
     "duration": 0.055587,
     "end_time": "2024-05-05T06:40:45.938177",
     "exception": false,
     "start_time": "2024-05-05T06:40:45.882590",
     "status": "completed"
    },
    "tags": []
   },
   "source": [
    "## poolings"
   ]
  },
  {
   "cell_type": "code",
   "execution_count": 26,
   "id": "21d659e9",
   "metadata": {
    "execution": {
     "iopub.execute_input": "2024-05-05T06:40:46.052723Z",
     "iopub.status.busy": "2024-05-05T06:40:46.052285Z",
     "iopub.status.idle": "2024-05-05T06:40:46.057651Z",
     "shell.execute_reply": "2024-05-05T06:40:46.056518Z"
    },
    "papermill": {
     "duration": 0.066053,
     "end_time": "2024-05-05T06:40:46.060177",
     "exception": false,
     "start_time": "2024-05-05T06:40:45.994124",
     "status": "completed"
    },
    "tags": []
   },
   "outputs": [],
   "source": [
    "# class GeM(torch.nn.Module):\n",
    "#     def __init__(self, p=3, eps=1e-6):\n",
    "#         super(GeM, self).__init__()\n",
    "#         self.p = torch.nn.Parameter(torch.ones(1) * p)\n",
    "#         self.eps = eps\n",
    "\n",
    "#     def forward(self, x):\n",
    "#         bs, ch, h, w = x.shape\n",
    "#         x = torch.nn.functional.avg_pool2d(x.clamp(min=self.eps).pow(self.p), (x.size(-2), x.size(-1))).pow(1.0 / self.p)\n",
    "#         x = x.view(bs, ch)\n",
    "#         return x"
   ]
  },
  {
   "cell_type": "markdown",
   "id": "2c40373e",
   "metadata": {
    "papermill": {
     "duration": 0.056562,
     "end_time": "2024-05-05T06:40:46.174081",
     "exception": false,
     "start_time": "2024-05-05T06:40:46.117519",
     "status": "completed"
    },
    "tags": []
   },
   "source": [
    "### simple efficientnet SEDmodel"
   ]
  },
  {
   "cell_type": "code",
   "execution_count": 27,
   "id": "b8d2e78d",
   "metadata": {
    "execution": {
     "iopub.execute_input": "2024-05-05T06:40:46.291169Z",
     "iopub.status.busy": "2024-05-05T06:40:46.290754Z",
     "iopub.status.idle": "2024-05-05T06:40:46.306326Z",
     "shell.execute_reply": "2024-05-05T06:40:46.305277Z"
    },
    "papermill": {
     "duration": 0.076904,
     "end_time": "2024-05-05T06:40:46.308718",
     "exception": false,
     "start_time": "2024-05-05T06:40:46.231814",
     "status": "completed"
    },
    "tags": []
   },
   "outputs": [],
   "source": [
    "class BirdModel(torch.nn.Module):\n",
    "    def __init__(self, model_name, pretrained, in_channels, num_classes, pool=\"default\"):\n",
    "        super().__init__()\n",
    "\n",
    "        self.pool = pool\n",
    "        self.normalize = transforms.Normalize([0.485, 0.456, 0.406], [0.229, 0.224, 0.225])\n",
    "        \n",
    "        if pool == \"default\":\n",
    "            self.backbone = timm.create_model(\n",
    "                model_name=model_name, pretrained=pretrained,\n",
    "                num_classes=0, in_chans=3)\n",
    "        else:\n",
    "            self.backbone = timm.create_model(\n",
    "                model_name=model_name, pretrained=pretrained,\n",
    "                num_classes=0, in_chans=3, global_pool=\"\")\n",
    "\n",
    "        in_features = self.backbone.num_features\n",
    "\n",
    "\n",
    "        # self.pooling = torch.nn.MaxPool2d()\n",
    "        # self.pooling = torch.nn.AvgPool2d()\n",
    "        self.max_pooling = torch.nn.Sequential(torch.nn.AdaptiveMaxPool2d(1),\n",
    "                                               torch.nn.Flatten(start_dim=1, end_dim=-1))\n",
    "        self.avg_pooling = torch.nn.Sequential(torch.nn.AdaptiveAvgPool2d(1),\n",
    "                                               torch.nn.Flatten(start_dim=1, end_dim=-1))\n",
    "        self.both_pooling_neck = torch.nn.Sequential(torch.nn.BatchNorm1d(2*in_features),\n",
    "                                                     torch.nn.Linear(in_features=2*in_features, out_features=in_features))\n",
    "        \n",
    "        self.head = torch.nn.Sequential(\n",
    "            torch.nn.BatchNorm1d(in_features),\n",
    "            torch.nn.Linear(in_features=in_features, out_features=256),\n",
    "            torch.nn.Hardswish(inplace=True),torch.nn.Dropout(0.1),\n",
    "            torch.nn.Linear(in_features=256, out_features=len(LABELS))  \n",
    "        )\n",
    "\n",
    "\n",
    "\n",
    "        self.active = torch.nn.Sigmoid()\n",
    "    def forward(self, x):\n",
    "        x = x.expand(-1, 3, -1, -1)\n",
    "        x = self.normalize(x)\n",
    "        x = self.backbone(x)\n",
    "\n",
    "        if self.pool == \"max\":\n",
    "            x = self.max_pooling(x)\n",
    "        elif self.pool == \"avg\":\n",
    "            x = self.avg_pooling(x)\n",
    "        elif self.pool == \"both\":\n",
    "            x_max = self.max_pooling(x)\n",
    "            x_avg = self.avg_pooling(x)\n",
    "            x = x_max + x_avg\n",
    "            # x = torch.cat([x_max, x_avg], dim=1)\n",
    "            # x = self.both_pooling_neck(x)\n",
    "            \n",
    "        x = self.head(x)\n",
    "        # x = self.active(x)\n",
    "        return x"
   ]
  },
  {
   "cell_type": "code",
   "execution_count": 28,
   "id": "849e0838",
   "metadata": {
    "execution": {
     "iopub.execute_input": "2024-05-05T06:40:46.422789Z",
     "iopub.status.busy": "2024-05-05T06:40:46.422337Z",
     "iopub.status.idle": "2024-05-05T06:40:46.427408Z",
     "shell.execute_reply": "2024-05-05T06:40:46.426258Z"
    },
    "papermill": {
     "duration": 0.064918,
     "end_time": "2024-05-05T06:40:46.429720",
     "exception": false,
     "start_time": "2024-05-05T06:40:46.364802",
     "status": "completed"
    },
    "tags": []
   },
   "outputs": [],
   "source": [
    "# if isTrain:\n",
    "#     model = BirdModel(model_name=cfg.model_name, pretrained=True, in_channels=3, num_classes=len(LABELS)).to(device)\n",
    "#     inp = torch.rand([4, 1, 256, 401])\n",
    "#     tmp = model.forward(inp.to(device))\n",
    "#     print(tmp.shape)"
   ]
  },
  {
   "cell_type": "markdown",
   "id": "4266a2f3",
   "metadata": {
    "papermill": {
     "duration": 0.056016,
     "end_time": "2024-05-05T06:40:46.542436",
     "exception": false,
     "start_time": "2024-05-05T06:40:46.486420",
     "status": "completed"
    },
    "tags": []
   },
   "source": [
    "### PANNs"
   ]
  },
  {
   "cell_type": "code",
   "execution_count": 29,
   "id": "e0d005f7",
   "metadata": {
    "execution": {
     "iopub.execute_input": "2024-05-05T06:40:46.656853Z",
     "iopub.status.busy": "2024-05-05T06:40:46.656445Z",
     "iopub.status.idle": "2024-05-05T06:40:46.666310Z",
     "shell.execute_reply": "2024-05-05T06:40:46.665050Z"
    },
    "papermill": {
     "duration": 0.07041,
     "end_time": "2024-05-05T06:40:46.668753",
     "exception": false,
     "start_time": "2024-05-05T06:40:46.598343",
     "status": "completed"
    },
    "tags": []
   },
   "outputs": [],
   "source": [
    "# class PANNsCNN14Att(nn.Module):\n",
    "#     def __init__(self, sample_rate: int, window_size: int, hop_size: int,\n",
    "#                  mel_bins: int, fmin: int, fmax: int, classes_num: int):\n",
    "#         super().__init__()\n",
    "\n",
    "#         self.spec_layer = nnAudio.features.MelSpectrogram(\n",
    "#             sr=cfg.sr, hop_length=cfg.hop_length, fmin=cfg.fmin, fmax=cfg.fmax, \n",
    "#             n_fft=cfg.n_fft, n_mels=cfg.n_mels, \n",
    "#             window='hann',center=True, pad_mode='reflect', trainable_mel=True, trainable_STFT=True).cuda()\n",
    "        \n",
    "#         self.cqt_layer = nnAudio.features.CQT(\n",
    "#             sr=cfg.sr, hop_length=cfg.hop_length, fmin=cfg.fmin, fmax=cfg.fmax,\n",
    "#             bins_per_octave=cfg.bins_per_octave, \n",
    "#             window='hann', pad_mode='reflect', trainable=True).cuda()\n",
    "        \n",
    "#         self.backbone = timm.create_model(\n",
    "#             model_name=model_name, pretrained=pretrained,\n",
    "#             num_classes=len(LABELS), in_chans=1)\n",
    "        \n",
    "\n",
    "#         # Spec augmenter\n",
    "#         self.spec_augmenter = SpecAugmentation(\n",
    "#             time_drop_width=64,\n",
    "#             time_stripes_num=2,\n",
    "#             freq_drop_width=8,\n",
    "#             freq_stripes_num=2)\n",
    "\n",
    "#         self.bn0 = nn.BatchNorm2d(mel_bins)\n",
    "\n",
    "#         self.conv_block1 = ConvBlock(in_channels=1, out_channels=64)\n",
    "#         self.conv_block2 = ConvBlock(in_channels=64, out_channels=128)\n",
    "#         self.conv_block3 = ConvBlock(in_channels=128, out_channels=256)\n",
    "#         self.conv_block4 = ConvBlock(in_channels=256, out_channels=512)\n",
    "#         self.conv_block5 = ConvBlock(in_channels=512, out_channels=1024)\n",
    "#         self.conv_block6 = ConvBlock(in_channels=1024, out_channels=2048)\n",
    "\n",
    "#         self.fc1 = nn.Linear(2048, 2048, bias=True)\n",
    "#         self.att_block = AttBlock(2048, classes_num, activation='sigmoid')\n",
    "\n",
    "#         self.init_weight()\n",
    "\n",
    "#     def init_weight(self):\n",
    "#         init_bn(self.bn0)\n",
    "#         init_layer(self.fc1)\n",
    "        \n",
    "#     def cnn_feature_extractor(self, x):\n",
    "#         x = self.conv_block1(x, pool_size=(2, 2), pool_type='avg')\n",
    "#         x = F.dropout(x, p=0.2, training=self.training)\n",
    "#         x = self.conv_block2(x, pool_size=(2, 2), pool_type='avg')\n",
    "#         x = F.dropout(x, p=0.2, training=self.training)\n",
    "#         x = self.conv_block3(x, pool_size=(2, 2), pool_type='avg')\n",
    "#         x = F.dropout(x, p=0.2, training=self.training)\n",
    "#         x = self.conv_block4(x, pool_size=(2, 2), pool_type='avg')\n",
    "#         x = F.dropout(x, p=0.2, training=self.training)\n",
    "#         x = self.conv_block5(x, pool_size=(2, 2), pool_type='avg')\n",
    "#         x = F.dropout(x, p=0.2, training=self.training)\n",
    "#         x = self.conv_block6(x, pool_size=(1, 1), pool_type='avg')\n",
    "#         x = F.dropout(x, p=0.2, training=self.training)\n",
    "#         return x\n",
    "    \n",
    "#     def preprocess(self, input, mixup_lambda=None):\n",
    "#         # t1 = time.time()\n",
    "#         x = self.spectrogram_extractor(input)  # (batch_size, 1, time_steps, freq_bins)\n",
    "#         x = self.logmel_extractor(x)  # (batch_size, 1, time_steps, mel_bins)\n",
    "\n",
    "#         frames_num = x.shape[2]\n",
    "\n",
    "#         x = x.transpose(1, 3)\n",
    "#         x = self.bn0(x)\n",
    "#         x = x.transpose(1, 3)\n",
    "\n",
    "#         if self.training:\n",
    "#             x = self.spec_augmenter(x)\n",
    "\n",
    "#         # Mixup on spectrogram\n",
    "#         if self.training and mixup_lambda is not None:\n",
    "#             x = do_mixup(x, mixup_lambda)\n",
    "#         return x, frames_num\n",
    "        \n",
    "\n",
    "#     def forward(self, input, mixup_lambda=None):\n",
    "#         \"\"\"\n",
    "#         Input: (batch_size, data_length)\"\"\"\n",
    "#         x, frames_num = self.preprocess(input, mixup_lambda=mixup_lambda)\n",
    "\n",
    "#         # Output shape (batch size, channels, time, frequency)\n",
    "#         x = self.cnn_feature_extractor(x)\n",
    "        \n",
    "#         # Aggregate in frequency axis\n",
    "#         x = torch.mean(x, dim=3)\n",
    "\n",
    "#         x1 = F.max_pool1d(x, kernel_size=3, stride=1, padding=1)\n",
    "#         x2 = F.avg_pool1d(x, kernel_size=3, stride=1, padding=1)\n",
    "#         x = x1 + x2\n",
    "\n",
    "#         x = F.dropout(x, p=0.5, training=self.training)\n",
    "#         x = x.transpose(1, 2)\n",
    "#         x = F.relu_(self.fc1(x))\n",
    "#         x = x.transpose(1, 2)\n",
    "#         x = F.dropout(x, p=0.5, training=self.training)\n",
    "\n",
    "#         (clipwise_output, norm_att, segmentwise_output) = self.att_block(x)\n",
    "#         segmentwise_output = segmentwise_output.transpose(1, 2)\n",
    "\n",
    "#         # Get framewise output\n",
    "#         framewise_output = interpolate(segmentwise_output,\n",
    "#                                        self.interpolate_ratio)\n",
    "#         framewise_output = pad_framewise_output(framewise_output, frames_num)\n",
    "\n",
    "#         output_dict = {\n",
    "#             'framewise_output': framewise_output,\n",
    "#             'clipwise_output': clipwise_output\n",
    "#         }\n",
    "\n",
    "#         return output_dict"
   ]
  },
  {
   "cell_type": "markdown",
   "id": "deaf341d",
   "metadata": {
    "papermill": {
     "duration": 0.05578,
     "end_time": "2024-05-05T06:40:46.780621",
     "exception": false,
     "start_time": "2024-05-05T06:40:46.724841",
     "status": "completed"
    },
    "tags": []
   },
   "source": [
    "# get fold"
   ]
  },
  {
   "cell_type": "code",
   "execution_count": 30,
   "id": "857d5475",
   "metadata": {
    "execution": {
     "iopub.execute_input": "2024-05-05T06:40:46.897091Z",
     "iopub.status.busy": "2024-05-05T06:40:46.896688Z",
     "iopub.status.idle": "2024-05-05T06:40:46.943390Z",
     "shell.execute_reply": "2024-05-05T06:40:46.942467Z"
    },
    "papermill": {
     "duration": 0.107588,
     "end_time": "2024-05-05T06:40:46.946268",
     "exception": false,
     "start_time": "2024-05-05T06:40:46.838680",
     "status": "completed"
    },
    "tags": []
   },
   "outputs": [],
   "source": [
    "# if isTrain:\n",
    "from sklearn.model_selection import KFold, StratifiedKFold, GroupKFold\n",
    "skf = StratifiedKFold(n_splits=cfg.nfolds, shuffle=True, random_state=cfg.seed)\n",
    "for fold, (train_index, valid_index) in enumerate(skf.split(train_csv, train_csv['primary_label'])):\n",
    "    train_csv.loc[valid_index, 'fold'] = int(fold)"
   ]
  },
  {
   "cell_type": "code",
   "execution_count": 31,
   "id": "49a6697f",
   "metadata": {
    "execution": {
     "iopub.execute_input": "2024-05-05T06:40:47.063152Z",
     "iopub.status.busy": "2024-05-05T06:40:47.062760Z",
     "iopub.status.idle": "2024-05-05T06:40:47.068296Z",
     "shell.execute_reply": "2024-05-05T06:40:47.067175Z"
    },
    "papermill": {
     "duration": 0.066714,
     "end_time": "2024-05-05T06:40:47.070644",
     "exception": false,
     "start_time": "2024-05-05T06:40:47.003930",
     "status": "completed"
    },
    "tags": []
   },
   "outputs": [],
   "source": [
    "if isTrain:\n",
    "    train_csv.groupby(\"fold\", as_index=False)[\"primary_label\"].value_counts()"
   ]
  },
  {
   "cell_type": "markdown",
   "id": "7fb4229e",
   "metadata": {
    "papermill": {
     "duration": 0.05603,
     "end_time": "2024-05-05T06:40:47.182838",
     "exception": false,
     "start_time": "2024-05-05T06:40:47.126808",
     "status": "completed"
    },
    "tags": []
   },
   "source": [
    "# Trainer Utils"
   ]
  },
  {
   "cell_type": "markdown",
   "id": "8d4842fb",
   "metadata": {
    "papermill": {
     "duration": 0.056999,
     "end_time": "2024-05-05T06:40:47.296116",
     "exception": false,
     "start_time": "2024-05-05T06:40:47.239117",
     "status": "completed"
    },
    "tags": []
   },
   "source": [
    "## set seed function"
   ]
  },
  {
   "cell_type": "code",
   "execution_count": 32,
   "id": "708439ad",
   "metadata": {
    "execution": {
     "iopub.execute_input": "2024-05-05T06:40:47.411099Z",
     "iopub.status.busy": "2024-05-05T06:40:47.410668Z",
     "iopub.status.idle": "2024-05-05T06:40:47.417383Z",
     "shell.execute_reply": "2024-05-05T06:40:47.416332Z"
    },
    "papermill": {
     "duration": 0.066952,
     "end_time": "2024-05-05T06:40:47.419740",
     "exception": false,
     "start_time": "2024-05-05T06:40:47.352788",
     "status": "completed"
    },
    "tags": []
   },
   "outputs": [],
   "source": [
    "def set_random_seed(seed: int = 42, deterministic: bool = False):\n",
    "    \"\"\"Set seeds\"\"\"\n",
    "    random.seed(seed)\n",
    "    np.random.seed(seed)\n",
    "    os.environ[\"PYTHONHASHSEED\"] = str(seed)\n",
    "    torch.manual_seed(seed)\n",
    "    torch.cuda.manual_seed(seed)  # type: ignore\n",
    "    torch.backends.cudnn.deterministic = deterministic  # type: ignore"
   ]
  },
  {
   "cell_type": "markdown",
   "id": "4a48fef3",
   "metadata": {
    "papermill": {
     "duration": 0.056345,
     "end_time": "2024-05-05T06:40:47.533296",
     "exception": false,
     "start_time": "2024-05-05T06:40:47.476951",
     "status": "completed"
    },
    "tags": []
   },
   "source": [
    "## INIT"
   ]
  },
  {
   "cell_type": "markdown",
   "id": "51be5f30",
   "metadata": {
    "papermill": {
     "duration": 0.055781,
     "end_time": "2024-05-05T06:40:47.649077",
     "exception": false,
     "start_time": "2024-05-05T06:40:47.593296",
     "status": "completed"
    },
    "tags": []
   },
   "source": [
    "### Loss"
   ]
  },
  {
   "cell_type": "code",
   "execution_count": 33,
   "id": "3c48f233",
   "metadata": {
    "execution": {
     "iopub.execute_input": "2024-05-05T06:40:47.781252Z",
     "iopub.status.busy": "2024-05-05T06:40:47.780514Z",
     "iopub.status.idle": "2024-05-05T06:40:47.788650Z",
     "shell.execute_reply": "2024-05-05T06:40:47.787533Z"
    },
    "papermill": {
     "duration": 0.077209,
     "end_time": "2024-05-05T06:40:47.790940",
     "exception": false,
     "start_time": "2024-05-05T06:40:47.713731",
     "status": "completed"
    },
    "tags": []
   },
   "outputs": [],
   "source": [
    "class BCEFocalLoss(nn.Module):\n",
    "    def __init__(self, alpha=0.25, gamma=2.0):\n",
    "        super().__init__()\n",
    "        self.alpha = alpha\n",
    "        self.gamma = gamma\n",
    "\n",
    "    def forward(self, preds, targets):\n",
    "        bce_loss = nn.BCEWithLogitsLoss(reduction='none')(preds, targets)\n",
    "        probas = torch.sigmoid(preds)\n",
    "\n",
    "        \n",
    "\n",
    "        tmp = targets * self.alpha * (1. - probas)**self.gamma * bce_loss\n",
    "        smp = (1. - targets) * probas**self.gamma * bce_loss\n",
    "        \n",
    "        loss = tmp + smp\n",
    "        loss = loss.mean()\n",
    "        return loss"
   ]
  },
  {
   "cell_type": "code",
   "execution_count": 34,
   "id": "44281d82",
   "metadata": {
    "execution": {
     "iopub.execute_input": "2024-05-05T06:40:47.906814Z",
     "iopub.status.busy": "2024-05-05T06:40:47.906380Z",
     "iopub.status.idle": "2024-05-05T06:40:47.916685Z",
     "shell.execute_reply": "2024-05-05T06:40:47.915572Z"
    },
    "papermill": {
     "duration": 0.070422,
     "end_time": "2024-05-05T06:40:47.919056",
     "exception": false,
     "start_time": "2024-05-05T06:40:47.848634",
     "status": "completed"
    },
    "tags": []
   },
   "outputs": [],
   "source": [
    "def initialization():\n",
    "    model = BirdModel(model_name=cfg.model_name, pretrained=True, in_channels=3, num_classes=len(LABELS), pool=cfg.pool_type)\n",
    "    \n",
    "    if cfg.optimizer=='adan':\n",
    "        optimizer = Adan(model.parameters(), lr=cfg.lr, betas=(0.02, 0.08, 0.01), weight_decay=cfg.weight_decay)\n",
    "    else:\n",
    "        optimizer = torch.optim.AdamW(params=model.parameters(), lr=cfg.lr, weight_decay=cfg.weight_decay)\n",
    "    \n",
    "    scheduler = torch.optim.lr_scheduler.OneCycleLR(\n",
    "        optimizer=optimizer, epochs=cfg.max_epoch,\n",
    "        pct_start=0.0, steps_per_epoch=len(train_dataloader),\n",
    "        max_lr=cfg.lr, div_factor=25, final_div_factor=4.0e-01\n",
    "    )\n",
    "    \n",
    "    scaler = amp.GradScaler(enabled=cfg.enable_amp)\n",
    "    if cfg.loss_type == \"BCEWithLogitsLoss\":\n",
    "        loss_func = torch.nn.BCEWithLogitsLoss()\n",
    "    elif cfg.loss_type == \"BCEFocalLoss\":\n",
    "        loss_func = BCEFocalLoss(alpha=1)\n",
    "    \n",
    "    \n",
    "    \n",
    "    # loss_func = torch.nn.CrossEntropyLoss()\n",
    "    # loss_func = torch.nn.BCELoss()\n",
    "\n",
    "    return model.to(device), optimizer, scheduler, scaler, loss_func.to(device)"
   ]
  },
  {
   "cell_type": "code",
   "execution_count": 35,
   "id": "50c54df2",
   "metadata": {
    "execution": {
     "iopub.execute_input": "2024-05-05T06:40:48.033327Z",
     "iopub.status.busy": "2024-05-05T06:40:48.032480Z",
     "iopub.status.idle": "2024-05-05T06:40:48.037413Z",
     "shell.execute_reply": "2024-05-05T06:40:48.036402Z"
    },
    "papermill": {
     "duration": 0.064603,
     "end_time": "2024-05-05T06:40:48.039597",
     "exception": false,
     "start_time": "2024-05-05T06:40:47.974994",
     "status": "completed"
    },
    "tags": []
   },
   "outputs": [],
   "source": [
    "from sklearn import metrics\n",
    "from sklearn.metrics import mean_squared_error, roc_auc_score"
   ]
  },
  {
   "cell_type": "markdown",
   "id": "7164cb14",
   "metadata": {
    "papermill": {
     "duration": 0.05657,
     "end_time": "2024-05-05T06:40:48.153254",
     "exception": false,
     "start_time": "2024-05-05T06:40:48.096684",
     "status": "completed"
    },
    "tags": []
   },
   "source": [
    "## trainer function"
   ]
  },
  {
   "cell_type": "code",
   "execution_count": 36,
   "id": "9f88eb45",
   "metadata": {
    "execution": {
     "iopub.execute_input": "2024-05-05T06:40:48.269360Z",
     "iopub.status.busy": "2024-05-05T06:40:48.268439Z",
     "iopub.status.idle": "2024-05-05T06:40:48.299597Z",
     "shell.execute_reply": "2024-05-05T06:40:48.298607Z"
    },
    "papermill": {
     "duration": 0.092319,
     "end_time": "2024-05-05T06:40:48.302060",
     "exception": false,
     "start_time": "2024-05-05T06:40:48.209741",
     "status": "completed"
    },
    "tags": []
   },
   "outputs": [],
   "source": [
    "def train_one_loop(model, optimizer, scaler, scheduler, dataloader, loss_fn):\n",
    "    trainloss = 0; model.train()\n",
    "\n",
    "    count = 0\n",
    "    for idx, (data, label) in enumerate(tqdm(dataloader,leave=False ,desc=\"[train]\")):\n",
    "        # label = label.reshape(-1, len(LABELS))\n",
    "        \n",
    "        data, label = data.to(device), label.to(device)\n",
    "        \n",
    "        optimizer.zero_grad()\n",
    "        with amp.autocast(cfg.enable_amp, dtype=torch.bfloat16):\n",
    "        # with amp.autocast(cfg.enable_amp):\n",
    "            pred = model.forward(data)\n",
    "            loss = loss_fn(pred, label)\n",
    "\n",
    "        scaler.scale(loss).backward()\n",
    "        scaler.step(optimizer)\n",
    "        scaler.update()\n",
    "\n",
    "        scheduler.step()\n",
    "        \n",
    "        trainloss += loss.item()\n",
    "        # print(idx, loss.item())\n",
    "        # if cfg.wandb == True:\n",
    "        #     wandb.log({f\"train_loss\": loss.item(), f\"lr\":scheduler.get_lr()[0]})\n",
    "        del data, label, loss\n",
    "        count += 1\n",
    "        # if count == 300:\n",
    "        # break\n",
    "    trainloss /= len(dataloader)\n",
    "    if cfg.wandb == True:\n",
    "        wandb.log({f\"train_loss\": trainloss, f\"lr\":scheduler.get_lr()[0]})\n",
    "    return model, optimizer, scaler, scheduler, trainloss\n",
    "\n",
    "\n",
    "def mixup_one_loop(model, optimizer, scaler, scheduler, dataloader, loss_fn):\n",
    "    trainloss = 0; model.train()\n",
    "\n",
    "    count = 0\n",
    "    for idx, (data, label) in enumerate(tqdm(dataloader,leave=False ,desc=\"[train]\")):\n",
    "        if np.random.random()>cfg.aug_spec_mixup_prob:\n",
    "            data, label = mixup(data=data, targets=label, alpha=cfg.alpha, mode=\"other_wave\")\n",
    "        else:\n",
    "            data, label = spec_mixup(data=data, targets=label)\n",
    "        data, label = data.to(device), label.to(device)\n",
    "        \n",
    "        optimizer.zero_grad()\n",
    "        with amp.autocast(cfg.enable_amp, dtype=torch.bfloat16):\n",
    "        # with amp.autocast(cfg.enable_amp):\n",
    "            pred = model.forward(data)\n",
    "            loss = loss_fn(pred, label)\n",
    "\n",
    "        scaler.scale(loss).backward()\n",
    "        scaler.step(optimizer)\n",
    "        scaler.update()\n",
    "\n",
    "        scheduler.step()\n",
    "        \n",
    "        trainloss += loss.item()\n",
    "        # print(idx, loss.item())\n",
    "        # if cfg.wandb == True:\n",
    "        #     wandb.log({f\"lr\":scheduler.get_lr()[0]})\n",
    "        del data, label, loss\n",
    "        count += 1\n",
    "        # if count == 300:\n",
    "        # break\n",
    "    trainloss /= len(dataloader)\n",
    "    if cfg.wandb == True:\n",
    "        wandb.log({f\"train_loss\": trainloss, f\"lr\":scheduler.get_lr()[0]})\n",
    "    return model, optimizer, scaler, scheduler, trainloss\n",
    "\n",
    "\n",
    "def evaluate_validation(model, dataloader, loss_fn):\n",
    "    validloss=0\n",
    "    model.eval()\n",
    "\n",
    "    preds, trues, targets = [], [], []\n",
    "    \n",
    "    for idx, (data, label) in enumerate(tqdm(dataloader,leave=False ,desc=\"[valid]\")):\n",
    "        # label = label.reshape(-1, len(LABELS))\n",
    "\n",
    "        d = data[0].unsqueeze(1)\n",
    "        label = label[0]\n",
    "        \n",
    "        d = d.to(device)\n",
    "        # with amp.autocast(cfg.enable_amp):\n",
    "        pred = model.forward(d)\n",
    "\n",
    "        preds.extend(pred.detach().cpu())\n",
    "        trues.extend(label)\n",
    "        targets.extend(label.argmax(axis=1))\n",
    "        \n",
    "    #======================== metrics ========================#\n",
    "    # y_preds = torch.stack(preds)\n",
    "    t = torch.stack(preds)\n",
    "    t = torch.sigmoid(t)\n",
    "    targets = torch.tensor(targets)\n",
    "    y_trues = torch.stack(trues)\n",
    "\n",
    "\n",
    "    validloss = loss_fn(torch.stack(preds), torch.stack(trues))\n",
    "    #     # print(idx, loss)\n",
    "    #     # wandb.log({\"valid_loss\": loss})\n",
    "\n",
    "    # validloss /= len(dataloader)\n",
    "    \n",
    "    # sk_f1 = metrics.f1_score(np.array(y_trues), np.array(t), average=\"micro\")\n",
    "    sk_f1_30 = metrics.f1_score(np.array(y_trues), np.array(t) > 0.30, average=\"micro\")\n",
    "    sk_f1_50 = metrics.f1_score(np.array(y_trues), np.array(t) > 0.50, average=\"micro\")\n",
    "    \n",
    "    auc = multiclass_auroc(input=t, target=targets, num_classes=len(LABELS),\n",
    "                           average=\"macro\").item()\n",
    "\n",
    "    # auc_micro = multiclass_auroc(input=t, target=targets, num_classes=len(LABELS),\n",
    "    #                        average=\"none\").item()\n",
    "\n",
    "    prec = multiclass_precision(input=t, target=targets, num_classes=len(LABELS),\n",
    "                           average=\"macro\").item()\n",
    "    # rec = multiclass_recall(input=t, target=targets, num_classes=len(LABELS),\n",
    "    #                        average=\"macro\").item()\n",
    "    \n",
    "    # acc = multilabel_accuracy(input=t, target=targets).item()\n",
    "\n",
    "    f1 = multiclass_f1_score(input=t, target=torch.tensor(targets), num_classes=len(LABELS),\n",
    "                             average=\"micro\").item()\n",
    "\n",
    "    f1_macro = multiclass_f1_score(input=t, target=torch.tensor(targets), num_classes=len(LABELS),\n",
    "                             average=\"macro\").item()\n",
    "\n",
    "    t_03 = (t>0.3).int()\n",
    "    t_03 = torch.tensor(t_03, dtype=torch.int64)\n",
    "    f1_03 = multiclass_f1_score(input=t_03, target=torch.tensor(targets), num_classes=len(LABELS), \n",
    "                                average=\"micro\").item()\n",
    "\n",
    "    t_05 = (t>0.5).int()\n",
    "    t_05 = torch.tensor(t_05, dtype=torch.int64)\n",
    "    f1_05 = multiclass_f1_score(input=t_05, target=torch.tensor(targets), num_classes=len(LABELS), \n",
    "                                average=\"micro\").item()\n",
    "\n",
    "    if cfg.wandb == True:\n",
    "        wandb.log({f\"valid_loss\": validloss,\n",
    "                   f\"AUC\":auc,\n",
    "                   # \"auc_micro\":auc_micro,\n",
    "                   \"precision\":prec, \n",
    "                   # \"recall\":rec, \n",
    "                   # \"accuracy\":acc,\n",
    "                   f\"F1\":f1,\n",
    "                   \"F1_macro\":f1_macro,\n",
    "                   f\"F1 30%\":f1_03,\n",
    "                   f\"F1 50%\":f1_05})\n",
    "    return validloss, auc, f1, f1_03, f1_05, sk_f1_30, sk_f1_50"
   ]
  },
  {
   "cell_type": "markdown",
   "id": "7a618e7a",
   "metadata": {
    "papermill": {
     "duration": 0.056658,
     "end_time": "2024-05-05T06:40:48.415311",
     "exception": false,
     "start_time": "2024-05-05T06:40:48.358653",
     "status": "completed"
    },
    "tags": []
   },
   "source": [
    "## training"
   ]
  },
  {
   "cell_type": "code",
   "execution_count": 37,
   "id": "782ec2f1",
   "metadata": {
    "execution": {
     "iopub.execute_input": "2024-05-05T06:40:48.530957Z",
     "iopub.status.busy": "2024-05-05T06:40:48.530096Z",
     "iopub.status.idle": "2024-05-05T06:40:48.535622Z",
     "shell.execute_reply": "2024-05-05T06:40:48.534627Z"
    },
    "papermill": {
     "duration": 0.066494,
     "end_time": "2024-05-05T06:40:48.538017",
     "exception": false,
     "start_time": "2024-05-05T06:40:48.471523",
     "status": "completed"
    },
    "tags": []
   },
   "outputs": [],
   "source": [
    "if isTrain == True:\n",
    "    tmp_params = dict(vars(config))\n",
    "    del tmp_params['__module__'],tmp_params['__dict__'],tmp_params['__weakref__'],tmp_params['__doc__']"
   ]
  },
  {
   "cell_type": "code",
   "execution_count": 38,
   "id": "3d21bc5e",
   "metadata": {
    "execution": {
     "iopub.execute_input": "2024-05-05T06:40:48.652156Z",
     "iopub.status.busy": "2024-05-05T06:40:48.651774Z",
     "iopub.status.idle": "2024-05-05T06:40:48.656365Z",
     "shell.execute_reply": "2024-05-05T06:40:48.655281Z"
    },
    "papermill": {
     "duration": 0.064703,
     "end_time": "2024-05-05T06:40:48.658733",
     "exception": false,
     "start_time": "2024-05-05T06:40:48.594030",
     "status": "completed"
    },
    "tags": []
   },
   "outputs": [],
   "source": [
    "# cfg.wandb = False"
   ]
  },
  {
   "cell_type": "markdown",
   "id": "ebef377c",
   "metadata": {
    "papermill": {
     "duration": 0.056362,
     "end_time": "2024-05-05T06:40:48.771557",
     "exception": false,
     "start_time": "2024-05-05T06:40:48.715195",
     "status": "completed"
    },
    "tags": []
   },
   "source": [
    "### oversampling"
   ]
  },
  {
   "cell_type": "code",
   "execution_count": 39,
   "id": "e26dcc3a",
   "metadata": {
    "execution": {
     "iopub.execute_input": "2024-05-05T06:40:48.888406Z",
     "iopub.status.busy": "2024-05-05T06:40:48.887637Z",
     "iopub.status.idle": "2024-05-05T06:40:48.895889Z",
     "shell.execute_reply": "2024-05-05T06:40:48.894703Z"
    },
    "papermill": {
     "duration": 0.068591,
     "end_time": "2024-05-05T06:40:48.898245",
     "exception": false,
     "start_time": "2024-05-05T06:40:48.829654",
     "status": "completed"
    },
    "tags": []
   },
   "outputs": [],
   "source": [
    "def get_oversampled_df(df):\n",
    "    \n",
    "    new_df = [df]\n",
    "\n",
    "    low_sample_birds = df[\"primary_label\"].value_counts()[df[\"primary_label\"].value_counts() < cfg.oversample_threthold].index\n",
    "    for bird in low_sample_birds:\n",
    "        tmp = df[df[\"primary_label\"] == bird]\n",
    "        data_num = len(tmp)\n",
    "    \n",
    "        tiles = 1 + cfg.oversample_threthold // data_num\n",
    "    \n",
    "        tile_df = []\n",
    "        for i in range(tiles):\n",
    "            tile_df.append(tmp)\n",
    "    \n",
    "        tiled_df = pd.concat(tile_df)\n",
    "        piece = tiled_df[data_num:cfg.oversample_threthold]\n",
    "        new_df.append(piece)\n",
    "    \n",
    "    return pd.concat(new_df)"
   ]
  },
  {
   "cell_type": "markdown",
   "id": "4547302b",
   "metadata": {
    "papermill": {
     "duration": 0.055924,
     "end_time": "2024-05-05T06:40:49.010702",
     "exception": false,
     "start_time": "2024-05-05T06:40:48.954778",
     "status": "completed"
    },
    "tags": []
   },
   "source": [
    "### in train"
   ]
  },
  {
   "cell_type": "code",
   "execution_count": 40,
   "id": "f1b9771a",
   "metadata": {
    "execution": {
     "iopub.execute_input": "2024-05-05T06:40:49.125735Z",
     "iopub.status.busy": "2024-05-05T06:40:49.124424Z",
     "iopub.status.idle": "2024-05-05T06:40:49.145530Z",
     "shell.execute_reply": "2024-05-05T06:40:49.144456Z"
    },
    "papermill": {
     "duration": 0.0816,
     "end_time": "2024-05-05T06:40:49.148235",
     "exception": false,
     "start_time": "2024-05-05T06:40:49.066635",
     "status": "completed"
    },
    "tags": []
   },
   "outputs": [],
   "source": [
    "if isTrain == True:\n",
    "    set_random_seed(seed=42)\n",
    "    \n",
    "    \n",
    "    if cfg.wandb == True:\n",
    "        wandb.init(project=p_name, name=f\"{name}\",\n",
    "                   config=tmp_params)\n",
    "        \n",
    "    # for fold in range(cfg.nfolds):\n",
    "    for fold in cfg.inference_folds:\n",
    "        train_ = train_csv.loc[train_csv[\"fold\"]!=fold]\n",
    "\n",
    "        if cfg.oversample == True:\n",
    "            train = get_oversampled_df(df=train_)\n",
    "        else:\n",
    "            train = train_\n",
    "        \n",
    "        augme_dataset = BirdCLEF_Dataset(df=train, augmentation=True, mode='train')\n",
    "        augme_dataloader = torch.utils.data.DataLoader(dataset=augme_dataset, batch_size=cfg.train_batchsize, shuffle=True)\n",
    "\n",
    "        train_dataset = BirdCLEF_Dataset(df=train, augmentation=False, mode='train')\n",
    "        train_dataloader = torch.utils.data.DataLoader(dataset=train_dataset, batch_size=cfg.train_batchsize, shuffle=True)\n",
    "        \n",
    "        valid = train_csv.loc[train_csv[\"fold\"]==fold]\n",
    "        valid_dataset = BirdCLEF_Dataset(df=valid, augmentation=False, mode='valid')\n",
    "        valid_dataloader = torch.utils.data.DataLoader(dataset=valid_dataset, batch_size=cfg.valid_batchsize, shuffle=False)\n",
    "    \n",
    "        model, optimizer, scheduler, scaler, loss_func =  initialization()\n",
    "    \n",
    "    \n",
    "        best_f1 = 0\n",
    "        best_auc = 0\n",
    "        best_loss = 1.00000\n",
    "        for e in range(cfg.max_epoch):\n",
    "            start_time = time.time()\n",
    "            if e < cfg.aug_epoch:\n",
    "                if cfg.aug_spec_mixup > np.random.random():\n",
    "                    model, optimizer, scaler, shcheduler, train_loss = mixup_one_loop(model=model,optimizer=optimizer,scaler=scaler, \n",
    "                                                                                          scheduler=scheduler,dataloader=augme_dataloader, loss_fn=loss_func)\n",
    "                else:\n",
    "                    model, optimizer, scaler, shcheduler, train_loss = train_one_loop(model=model,optimizer=optimizer,scaler=scaler, \n",
    "                                                                                          scheduler=scheduler,dataloader=augme_dataloader, loss_fn=loss_func)\n",
    "\n",
    "            else:\n",
    "                model, optimizer, scaler, shcheduler, train_loss = train_one_loop(model=model,optimizer=optimizer,scaler=scaler, \n",
    "                                                                                          scheduler=scheduler,dataloader=train_dataloader, loss_fn=loss_func)\n",
    "            \n",
    "            valid_loss, auc, f1, f1_03, f1_05, sk_f1_30, sk_f1_50 = evaluate_validation(model=model, dataloader=valid_dataloader, loss_fn=loss_func)\n",
    "            # print(f\"epoch {e} , train_loss is {train_loss}, valid_loss is {valid_loss}\")\n",
    "            \n",
    "            if best_loss > valid_loss:\n",
    "                end_time = time.time()\n",
    "                print(f\"[epoch {str(e).zfill(2)}] AUC{auc: .4f}, F1{f1: .4f}, F1_03{f1_03: .4f}, F1_05{f1_05: .4f}\")\n",
    "                print(f\"[epoch {str(e).zfill(2)}] SKF1_03{sk_f1_30: .4f}, SKF1_05{sk_f1_50: .4f}\")\n",
    "                print(f\"[epoch {str(e).zfill(2)}] valid_loss {valid_loss: .6f}\")\n",
    "                print(f\"[epoch {str(e).zfill(2)}] update loss {best_loss: .6f} --> {valid_loss: .6f} {(end_time - start_time): .1f}[s]\")\n",
    "                print(f\"[epoch {str(e).zfill(2)}] update auc score {best_auc: .6f} --> {auc: .6f} {(end_time - start_time): .1f}[s]\")\n",
    "                model_name = f'{name}/checkpoint/fold_{fold}_snapshot_epoch_{str(e).zfill(2)}.pth'\n",
    "                best_model = model\n",
    "                best_loss = valid_loss\n",
    "                best_auc = auc\n",
    "                best_f1 = f1\n",
    "            else:\n",
    "                end_time = time.time()\n",
    "                print(f\"[epoch {str(e).zfill(2)}] NOT update loss {best_loss: .6f} <-- {valid_loss: .6f} {(end_time - start_time): .1f}[s]\")\n",
    "                print(f\"[epoch {str(e).zfill(2)}] NOT update score {best_auc: .6f} <-- {auc: .6f} {(end_time - start_time): .1f}[s]\")\n",
    "\n",
    "        if cfg.wandb == True:\n",
    "            wandb.log({f\"best_loss\": best_loss,\n",
    "                       f\"best_f1\": best_f1,\n",
    "                       f\"best_auc\":best_auc})\n",
    "\n",
    "        torch.save(best_model.state_dict(), model_name)\n",
    "        \n",
    "        del model, best_model\n",
    "        gc.collect()\n",
    "        torch.cuda.empty_cache()\n",
    "        print(\"--\")\n",
    "        # break"
   ]
  },
  {
   "cell_type": "markdown",
   "id": "877ea39d",
   "metadata": {
    "papermill": {
     "duration": 0.059021,
     "end_time": "2024-05-05T06:40:49.263965",
     "exception": false,
     "start_time": "2024-05-05T06:40:49.204944",
     "status": "completed"
    },
    "tags": []
   },
   "source": [
    "# simple cv"
   ]
  },
  {
   "cell_type": "code",
   "execution_count": 41,
   "id": "78458eb0",
   "metadata": {
    "execution": {
     "iopub.execute_input": "2024-05-05T06:40:49.379410Z",
     "iopub.status.busy": "2024-05-05T06:40:49.378997Z",
     "iopub.status.idle": "2024-05-05T06:40:49.383985Z",
     "shell.execute_reply": "2024-05-05T06:40:49.382908Z"
    },
    "papermill": {
     "duration": 0.065281,
     "end_time": "2024-05-05T06:40:49.386302",
     "exception": false,
     "start_time": "2024-05-05T06:40:49.321021",
     "status": "completed"
    },
    "tags": []
   },
   "outputs": [],
   "source": [
    "# if isTrain == True:\n",
    "#     print(f\"fold cv : {cross_validation.values()}\")\n",
    "#     print(f\"cv : {round (torch.tensor(list(cross_validation.values())).mean().item(), 5 ) }\")"
   ]
  },
  {
   "cell_type": "markdown",
   "id": "84f690eb",
   "metadata": {
    "papermill": {
     "duration": 0.056468,
     "end_time": "2024-05-05T06:40:49.499176",
     "exception": false,
     "start_time": "2024-05-05T06:40:49.442708",
     "status": "completed"
    },
    "tags": []
   },
   "source": [
    "# inference"
   ]
  },
  {
   "cell_type": "markdown",
   "id": "575cd956",
   "metadata": {
    "papermill": {
     "duration": 0.055729,
     "end_time": "2024-05-05T06:40:49.611028",
     "exception": false,
     "start_time": "2024-05-05T06:40:49.555299",
     "status": "completed"
    },
    "tags": []
   },
   "source": [
    "## load models"
   ]
  },
  {
   "cell_type": "code",
   "execution_count": 42,
   "id": "75aa9112",
   "metadata": {
    "execution": {
     "iopub.execute_input": "2024-05-05T06:40:49.725452Z",
     "iopub.status.busy": "2024-05-05T06:40:49.724530Z",
     "iopub.status.idle": "2024-05-05T06:40:50.317923Z",
     "shell.execute_reply": "2024-05-05T06:40:50.316503Z"
    },
    "papermill": {
     "duration": 0.653506,
     "end_time": "2024-05-05T06:40:50.320516",
     "exception": false,
     "start_time": "2024-05-05T06:40:49.667010",
     "status": "completed"
    },
    "scrolled": true,
    "tags": []
   },
   "outputs": [
    {
     "name": "stdout",
     "output_type": "stream",
     "text": [
      "/kaggle/input/bird2024exp1057/checkpoint/fold_4_snapshot_epoch_04.pth\n",
      "/kaggle/input/bird2024exp1057/checkpoint/fold_4_snapshot_epoch_04.onnx\n"
     ]
    }
   ],
   "source": [
    "models = dict()\n",
    "models_names = dict()\n",
    "# for fold in range(cfg.nfolds):\n",
    "for fold in cfg.inference_folds:\n",
    "    if KAGGLE == True:\n",
    "        bestmodel_path = sorted(glob.glob(f\"/kaggle/input/{name}/checkpoint/fold_{fold}*.pth\"))[-1]\n",
    "    else:\n",
    "        bestmodel_path = sorted(glob.glob(f\"{name}/checkpoint/fold_{fold}*.pth\"))[-1]\n",
    "    print(bestmodel_path)\n",
    "    model = BirdModel(model_name=cfg.model_name, pretrained=False, in_channels=1, num_classes=len(LABELS))\n",
    "    model.load_state_dict(torch.load(bestmodel_path, map_location=torch.device('cpu')))\n",
    "    model = model.eval()\n",
    "    models[fold] = model\n",
    "\n",
    "    models_names[fold] = bestmodel_path.split(\".\")[0]+\".onnx\"\n",
    "    print(models_names[fold])"
   ]
  },
  {
   "cell_type": "code",
   "execution_count": 43,
   "id": "d2db646b",
   "metadata": {
    "execution": {
     "iopub.execute_input": "2024-05-05T06:40:50.436360Z",
     "iopub.status.busy": "2024-05-05T06:40:50.435941Z",
     "iopub.status.idle": "2024-05-05T06:40:50.445908Z",
     "shell.execute_reply": "2024-05-05T06:40:50.444858Z"
    },
    "papermill": {
     "duration": 0.07068,
     "end_time": "2024-05-05T06:40:50.448411",
     "exception": false,
     "start_time": "2024-05-05T06:40:50.377731",
     "status": "completed"
    },
    "tags": []
   },
   "outputs": [],
   "source": [
    "if KAGGLE == True:\n",
    "    test_audio_dir = f\"{cfg.dir}test_soundscapes/\"\n",
    "    file_list = glob.glob(test_audio_dir+\"*.ogg\")\n",
    "    file_list = sorted(file_list)\n",
    "\n",
    "if KAGGLE == False:\n",
    "    test_audio_dir = f\"{cfg.dir}unlabeled_soundscapes/\"\n",
    "    file_list = glob.glob(test_audio_dir+\"*.ogg\")\n",
    "    file_list = sorted(file_list)[:3]"
   ]
  },
  {
   "cell_type": "code",
   "execution_count": 44,
   "id": "be314af6",
   "metadata": {
    "execution": {
     "iopub.execute_input": "2024-05-05T06:40:50.623112Z",
     "iopub.status.busy": "2024-05-05T06:40:50.622731Z",
     "iopub.status.idle": "2024-05-05T06:40:50.628454Z",
     "shell.execute_reply": "2024-05-05T06:40:50.627450Z"
    },
    "papermill": {
     "duration": 0.066011,
     "end_time": "2024-05-05T06:40:50.630779",
     "exception": false,
     "start_time": "2024-05-05T06:40:50.564768",
     "status": "completed"
    },
    "tags": []
   },
   "outputs": [],
   "source": [
    "test_dataset = BirdCLEF_Dataset(df=file_list, mode=\"test\")\n",
    "test_dataloader = torch.utils.data.DataLoader(dataset=test_dataset, \n",
    "                                              batch_size=1, \n",
    "                                              shuffle=False)"
   ]
  },
  {
   "cell_type": "code",
   "execution_count": 45,
   "id": "0260997c",
   "metadata": {
    "execution": {
     "iopub.execute_input": "2024-05-05T06:40:50.745970Z",
     "iopub.status.busy": "2024-05-05T06:40:50.745544Z",
     "iopub.status.idle": "2024-05-05T06:40:50.750528Z",
     "shell.execute_reply": "2024-05-05T06:40:50.749469Z"
    },
    "papermill": {
     "duration": 0.065418,
     "end_time": "2024-05-05T06:40:50.752831",
     "exception": false,
     "start_time": "2024-05-05T06:40:50.687413",
     "status": "completed"
    },
    "tags": []
   },
   "outputs": [],
   "source": [
    "if KAGGLE == False:\n",
    "    print(test_dataset[0].shape)"
   ]
  },
  {
   "cell_type": "markdown",
   "id": "c39c9228",
   "metadata": {
    "papermill": {
     "duration": 0.057784,
     "end_time": "2024-05-05T06:40:50.867636",
     "exception": false,
     "start_time": "2024-05-05T06:40:50.809852",
     "status": "completed"
    },
    "tags": []
   },
   "source": [
    "# ONNX"
   ]
  },
  {
   "cell_type": "markdown",
   "id": "6ef99c8a",
   "metadata": {
    "papermill": {
     "duration": 0.056344,
     "end_time": "2024-05-05T06:40:50.980802",
     "exception": false,
     "start_time": "2024-05-05T06:40:50.924458",
     "status": "completed"
    },
    "tags": []
   },
   "source": [
    "## set onnx config"
   ]
  },
  {
   "cell_type": "code",
   "execution_count": 46,
   "id": "e6440201",
   "metadata": {
    "execution": {
     "iopub.execute_input": "2024-05-05T06:40:51.097564Z",
     "iopub.status.busy": "2024-05-05T06:40:51.096715Z",
     "iopub.status.idle": "2024-05-05T06:40:51.127742Z",
     "shell.execute_reply": "2024-05-05T06:40:51.126709Z"
    },
    "papermill": {
     "duration": 0.09255,
     "end_time": "2024-05-05T06:40:51.130383",
     "exception": false,
     "start_time": "2024-05-05T06:40:51.037833",
     "status": "completed"
    },
    "tags": []
   },
   "outputs": [],
   "source": [
    "input_tensor = torch.randn((48, 1, cfg.n_mels, cfg.size_x+1))  # input shape\n",
    "output_names=['output']\n",
    "input_names=[\"x\"]"
   ]
  },
  {
   "cell_type": "markdown",
   "id": "7dbb8813",
   "metadata": {
    "papermill": {
     "duration": 0.056557,
     "end_time": "2024-05-05T06:40:51.243714",
     "exception": false,
     "start_time": "2024-05-05T06:40:51.187157",
     "status": "completed"
    },
    "tags": []
   },
   "source": [
    "## export onnx model"
   ]
  },
  {
   "cell_type": "code",
   "execution_count": 47,
   "id": "05c9703e",
   "metadata": {
    "execution": {
     "iopub.execute_input": "2024-05-05T06:40:51.360182Z",
     "iopub.status.busy": "2024-05-05T06:40:51.359798Z",
     "iopub.status.idle": "2024-05-05T06:40:51.366144Z",
     "shell.execute_reply": "2024-05-05T06:40:51.365049Z"
    },
    "papermill": {
     "duration": 0.067116,
     "end_time": "2024-05-05T06:40:51.368425",
     "exception": false,
     "start_time": "2024-05-05T06:40:51.301309",
     "status": "completed"
    },
    "tags": []
   },
   "outputs": [],
   "source": [
    "if KAGGLE == False:\n",
    "    # for fold in range(cfg.nfolds):\n",
    "    for fold in cfg.inference_folds:\n",
    "        torch.onnx.export(model=models[fold].eval(),args=(input_tensor), \n",
    "                          input_names=input_names, output_names=output_names,f=models_names[fold])\n"
   ]
  },
  {
   "cell_type": "markdown",
   "id": "558b6b10",
   "metadata": {
    "papermill": {
     "duration": 0.057532,
     "end_time": "2024-05-05T06:40:51.483102",
     "exception": false,
     "start_time": "2024-05-05T06:40:51.425570",
     "status": "completed"
    },
    "tags": []
   },
   "source": [
    "## model convert from pytorch to onnx"
   ]
  },
  {
   "cell_type": "code",
   "execution_count": 48,
   "id": "85dfe340",
   "metadata": {
    "execution": {
     "iopub.execute_input": "2024-05-05T06:40:51.599158Z",
     "iopub.status.busy": "2024-05-05T06:40:51.598197Z",
     "iopub.status.idle": "2024-05-05T06:40:51.603015Z",
     "shell.execute_reply": "2024-05-05T06:40:51.602048Z"
    },
    "papermill": {
     "duration": 0.065559,
     "end_time": "2024-05-05T06:40:51.605298",
     "exception": false,
     "start_time": "2024-05-05T06:40:51.539739",
     "status": "completed"
    },
    "tags": []
   },
   "outputs": [],
   "source": [
    "import onnx\n",
    "import onnxruntime as ort"
   ]
  },
  {
   "cell_type": "code",
   "execution_count": 49,
   "id": "288f5725",
   "metadata": {
    "execution": {
     "iopub.execute_input": "2024-05-05T06:40:51.720584Z",
     "iopub.status.busy": "2024-05-05T06:40:51.719635Z",
     "iopub.status.idle": "2024-05-05T06:40:51.727959Z",
     "shell.execute_reply": "2024-05-05T06:40:51.726713Z"
    },
    "papermill": {
     "duration": 0.068224,
     "end_time": "2024-05-05T06:40:51.730125",
     "exception": false,
     "start_time": "2024-05-05T06:40:51.661901",
     "status": "completed"
    },
    "tags": []
   },
   "outputs": [
    {
     "name": "stdout",
     "output_type": "stream",
     "text": [
      "/kaggle/input/bird2024exp1057/checkpoint/fold_4_snapshot_epoch_04.onnx\n"
     ]
    }
   ],
   "source": [
    "# models_names = []\n",
    "models_names = dict()\n",
    "# for fold in range(cfg.nfolds):\n",
    "for fold in cfg.inference_folds:\n",
    "    if KAGGLE == True:\n",
    "        onnxmodel_path = sorted(glob.glob(f\"/kaggle/input/{name}/checkpoint/fold_{fold}*.onnx\"))[-1]\n",
    "    else:\n",
    "        onnxmodel_path = sorted(glob.glob(f\"{name}/checkpoint/fold_{fold}*.onnx\"))[-1]\n",
    "    print(onnxmodel_path)\n",
    "#     models_names.append(onnxmodel_path)\n",
    "    models_names[fold] = onnxmodel_path"
   ]
  },
  {
   "cell_type": "code",
   "execution_count": 50,
   "id": "27f28c91",
   "metadata": {
    "execution": {
     "iopub.execute_input": "2024-05-05T06:40:51.847326Z",
     "iopub.status.busy": "2024-05-05T06:40:51.846326Z",
     "iopub.status.idle": "2024-05-05T06:40:52.279763Z",
     "shell.execute_reply": "2024-05-05T06:40:52.278805Z"
    },
    "papermill": {
     "duration": 0.49572,
     "end_time": "2024-05-05T06:40:52.282468",
     "exception": false,
     "start_time": "2024-05-05T06:40:51.786748",
     "status": "completed"
    },
    "tags": []
   },
   "outputs": [],
   "source": [
    "onnx_sessions = dict()\n",
    "# for fold in range(cfg.nfolds):\n",
    "for fold in cfg.inference_folds:\n",
    "\n",
    "    onnx_model = onnx.load(models_names[fold])\n",
    "    onnx_model_graph = onnx_model.graph\n",
    "    onnx_session = ort.InferenceSession(onnx_model.SerializeToString())\n",
    "\n",
    "    onnx_sessions[fold] = onnx_session"
   ]
  },
  {
   "cell_type": "code",
   "execution_count": 51,
   "id": "d91984d1",
   "metadata": {
    "execution": {
     "iopub.execute_input": "2024-05-05T06:40:52.398670Z",
     "iopub.status.busy": "2024-05-05T06:40:52.398237Z",
     "iopub.status.idle": "2024-05-05T06:40:52.403354Z",
     "shell.execute_reply": "2024-05-05T06:40:52.402245Z"
    },
    "papermill": {
     "duration": 0.065954,
     "end_time": "2024-05-05T06:40:52.405805",
     "exception": false,
     "start_time": "2024-05-05T06:40:52.339851",
     "status": "completed"
    },
    "tags": []
   },
   "outputs": [],
   "source": [
    "# outputs = onnx_session.run(output_names, {input_names[0]: test_dataset[0].numpy()})[0]"
   ]
  },
  {
   "cell_type": "code",
   "execution_count": 52,
   "id": "422a0646",
   "metadata": {
    "execution": {
     "iopub.execute_input": "2024-05-05T06:40:52.521162Z",
     "iopub.status.busy": "2024-05-05T06:40:52.520778Z",
     "iopub.status.idle": "2024-05-05T06:40:52.550666Z",
     "shell.execute_reply": "2024-05-05T06:40:52.549556Z"
    },
    "papermill": {
     "duration": 0.094642,
     "end_time": "2024-05-05T06:40:52.557411",
     "exception": false,
     "start_time": "2024-05-05T06:40:52.462769",
     "status": "completed"
    },
    "tags": []
   },
   "outputs": [
    {
     "data": {
      "application/vnd.jupyter.widget-view+json": {
       "model_id": "0530e930794a40ab9275170e53a1ea9f",
       "version_major": 2,
       "version_minor": 0
      },
      "text/plain": [
       "0it [00:00, ?it/s]"
      ]
     },
     "metadata": {},
     "output_type": "display_data"
    }
   ],
   "source": [
    "start_time = time.time()\n",
    "\n",
    "predictions = []\n",
    "for data in tqdm(test_dataloader):\n",
    "    \n",
    "    preds = []\n",
    "    \n",
    "#     for fold, session in enumerate(onnx_sessions):\n",
    "    for fold in cfg.inference_folds:\n",
    "        session = onnx_sessions[fold]\n",
    "        pred = session.run(output_names, {input_names[0]: data[0].numpy()})[0]\n",
    "        \n",
    "        pred = torch.sigmoid(torch.tensor(pred))\n",
    "        preds.append(pred)\n",
    "    preds_per_batch = torch.stack(preds, axis=0).mean(axis=0)\n",
    "    \n",
    "    predictions.extend(preds_per_batch)\n",
    "    \n",
    "if len(predictions)>0:\n",
    "    predictions = torch.stack(predictions)\n",
    "else:\n",
    "    predictions = predictions\n",
    "end_time = time.time()\n",
    "use_time = end_time - start_time"
   ]
  },
  {
   "cell_type": "code",
   "execution_count": 53,
   "id": "0bfa88d6",
   "metadata": {
    "execution": {
     "iopub.execute_input": "2024-05-05T06:40:52.673711Z",
     "iopub.status.busy": "2024-05-05T06:40:52.673310Z",
     "iopub.status.idle": "2024-05-05T06:40:52.679328Z",
     "shell.execute_reply": "2024-05-05T06:40:52.678259Z"
    },
    "papermill": {
     "duration": 0.067683,
     "end_time": "2024-05-05T06:40:52.682299",
     "exception": false,
     "start_time": "2024-05-05T06:40:52.614616",
     "status": "completed"
    },
    "tags": []
   },
   "outputs": [
    {
     "name": "stdout",
     "output_type": "stream",
     "text": [
      "[4]fold +     3ogg is 0.0[s]\n",
      "[4]fold + 1,100ogg is 8.0[s], 0.1[m]\n"
     ]
    }
   ],
   "source": [
    "print(f\"{cfg.inference_folds}fold +     3ogg is {round(use_time,1)}[s]\")\n",
    "print(f\"{cfg.inference_folds}fold + 1,100ogg is {round(1100*use_time/3,1)}[s], {round(1100*use_time/3/60,1)}[m]\")"
   ]
  },
  {
   "cell_type": "code",
   "execution_count": 54,
   "id": "7187c0a7",
   "metadata": {
    "execution": {
     "iopub.execute_input": "2024-05-05T06:40:52.798266Z",
     "iopub.status.busy": "2024-05-05T06:40:52.797850Z",
     "iopub.status.idle": "2024-05-05T06:40:52.803186Z",
     "shell.execute_reply": "2024-05-05T06:40:52.802067Z"
    },
    "papermill": {
     "duration": 0.066325,
     "end_time": "2024-05-05T06:40:52.805433",
     "exception": false,
     "start_time": "2024-05-05T06:40:52.739108",
     "status": "completed"
    },
    "tags": []
   },
   "outputs": [],
   "source": [
    "# # fold_mean = np.zeros(predictions_dict[0].shape)\n",
    "# fold_mean = []\n",
    "# for key in predictions_dict.keys():\n",
    "#     fold_mean.append(predictions_dict[key])\n",
    "# fold_mean = np.mean(fold_mean, axis=0)"
   ]
  },
  {
   "cell_type": "code",
   "execution_count": 55,
   "id": "20bf6c27",
   "metadata": {
    "execution": {
     "iopub.execute_input": "2024-05-05T06:40:52.924984Z",
     "iopub.status.busy": "2024-05-05T06:40:52.923993Z",
     "iopub.status.idle": "2024-05-05T06:40:52.941394Z",
     "shell.execute_reply": "2024-05-05T06:40:52.940115Z"
    },
    "papermill": {
     "duration": 0.078917,
     "end_time": "2024-05-05T06:40:52.943995",
     "exception": false,
     "start_time": "2024-05-05T06:40:52.865078",
     "status": "completed"
    },
    "tags": []
   },
   "outputs": [],
   "source": [
    "bird_cols = sample_submission.columns[1:]\n",
    "df = pd.DataFrame(columns=['row_id']+list(bird_cols))"
   ]
  },
  {
   "cell_type": "code",
   "execution_count": 56,
   "id": "6e826f4a",
   "metadata": {
    "execution": {
     "iopub.execute_input": "2024-05-05T06:40:53.062201Z",
     "iopub.status.busy": "2024-05-05T06:40:53.061803Z",
     "iopub.status.idle": "2024-05-05T06:40:53.077631Z",
     "shell.execute_reply": "2024-05-05T06:40:53.076464Z"
    },
    "papermill": {
     "duration": 0.078397,
     "end_time": "2024-05-05T06:40:53.080251",
     "exception": false,
     "start_time": "2024-05-05T06:40:53.001854",
     "status": "completed"
    },
    "tags": []
   },
   "outputs": [
    {
     "data": {
      "text/html": [
       "<div>\n",
       "<style scoped>\n",
       "    .dataframe tbody tr th:only-of-type {\n",
       "        vertical-align: middle;\n",
       "    }\n",
       "\n",
       "    .dataframe tbody tr th {\n",
       "        vertical-align: top;\n",
       "    }\n",
       "\n",
       "    .dataframe thead th {\n",
       "        text-align: right;\n",
       "    }\n",
       "</style>\n",
       "<table border=\"1\" class=\"dataframe\">\n",
       "  <thead>\n",
       "    <tr style=\"text-align: right;\">\n",
       "      <th></th>\n",
       "      <th>row_id</th>\n",
       "      <th>asbfly</th>\n",
       "      <th>ashdro1</th>\n",
       "      <th>ashpri1</th>\n",
       "      <th>ashwoo2</th>\n",
       "      <th>asikoe2</th>\n",
       "      <th>asiope1</th>\n",
       "      <th>aspfly1</th>\n",
       "      <th>aspswi1</th>\n",
       "      <th>barfly1</th>\n",
       "      <th>...</th>\n",
       "      <th>whbwoo2</th>\n",
       "      <th>whcbar1</th>\n",
       "      <th>whiter2</th>\n",
       "      <th>whrmun</th>\n",
       "      <th>whtkin2</th>\n",
       "      <th>woosan</th>\n",
       "      <th>wynlau1</th>\n",
       "      <th>yebbab1</th>\n",
       "      <th>yebbul3</th>\n",
       "      <th>zitcis1</th>\n",
       "    </tr>\n",
       "  </thead>\n",
       "  <tbody>\n",
       "  </tbody>\n",
       "</table>\n",
       "<p>0 rows × 183 columns</p>\n",
       "</div>"
      ],
      "text/plain": [
       "Empty DataFrame\n",
       "Columns: [row_id, asbfly, ashdro1, ashpri1, ashwoo2, asikoe2, asiope1, aspfly1, aspswi1, barfly1, barswa, bcnher, bkcbul1, bkrfla1, bkskit1, bkwsti, bladro1, blaeag1, blakit1, blhori1, blnmon1, blrwar1, bncwoo3, brakit1, brasta1, brcful1, brfowl1, brnhao1, brnshr, brodro1, brwjac1, brwowl1, btbeat1, bwfshr1, categr, chbeat1, cohcuc1, comfla1, comgre, comior1, comkin1, commoo3, commyn, compea, comros, comsan, comtai1, copbar1, crbsun2, cregos1, crfbar1, crseag1, dafbab1, darter2, eaywag1, emedov2, eucdov, eurbla2, eurcoo, forwag1, gargan, gloibi, goflea1, graher1, grbeat1, grecou1, greegr, grefla1, grehor1, grejun2, grenig1, grewar3, grnsan, grnwar1, grtdro1, gryfra, grynig2, grywag, gybpri1, gyhcaf1, heswoo1, hoopoe, houcro1, houspa, inbrob1, indpit1, indrob1, indrol2, indtit1, ingori1, inpher1, insbab1, insowl1, integr, isbduc1, jerbus2, junbab2, junmyn1, junowl1, kenplo1, ...]\n",
       "Index: []\n",
       "\n",
       "[0 rows x 183 columns]"
      ]
     },
     "execution_count": 56,
     "metadata": {},
     "output_type": "execute_result"
    }
   ],
   "source": [
    "df.head()"
   ]
  },
  {
   "cell_type": "code",
   "execution_count": 57,
   "id": "0d99c7b1",
   "metadata": {
    "execution": {
     "iopub.execute_input": "2024-05-05T06:40:53.198821Z",
     "iopub.status.busy": "2024-05-05T06:40:53.198416Z",
     "iopub.status.idle": "2024-05-05T06:40:53.204768Z",
     "shell.execute_reply": "2024-05-05T06:40:53.203621Z"
    },
    "papermill": {
     "duration": 0.068901,
     "end_time": "2024-05-05T06:40:53.207209",
     "exception": false,
     "start_time": "2024-05-05T06:40:53.138308",
     "status": "completed"
    },
    "tags": []
   },
   "outputs": [],
   "source": [
    "row_list = []\n",
    "for file in file_list:\n",
    "    dataname = file.split(\"/\")[-1][:-4]\n",
    "    for i in range(int(4*60/5)):\n",
    "        row = f\"{dataname}_{(i+1)*5}\"\n",
    "        row_list.append(row)"
   ]
  },
  {
   "cell_type": "code",
   "execution_count": 58,
   "id": "b357f54c",
   "metadata": {
    "execution": {
     "iopub.execute_input": "2024-05-05T06:40:53.326858Z",
     "iopub.status.busy": "2024-05-05T06:40:53.326418Z",
     "iopub.status.idle": "2024-05-05T06:40:53.332336Z",
     "shell.execute_reply": "2024-05-05T06:40:53.331264Z"
    },
    "papermill": {
     "duration": 0.067193,
     "end_time": "2024-05-05T06:40:53.334944",
     "exception": false,
     "start_time": "2024-05-05T06:40:53.267751",
     "status": "completed"
    },
    "tags": []
   },
   "outputs": [],
   "source": [
    "df['row_id'] = row_list"
   ]
  },
  {
   "cell_type": "code",
   "execution_count": 59,
   "id": "3a84e854",
   "metadata": {
    "execution": {
     "iopub.execute_input": "2024-05-05T06:40:53.451733Z",
     "iopub.status.busy": "2024-05-05T06:40:53.450846Z",
     "iopub.status.idle": "2024-05-05T06:40:53.466382Z",
     "shell.execute_reply": "2024-05-05T06:40:53.465223Z"
    },
    "papermill": {
     "duration": 0.076202,
     "end_time": "2024-05-05T06:40:53.468679",
     "exception": false,
     "start_time": "2024-05-05T06:40:53.392477",
     "status": "completed"
    },
    "tags": []
   },
   "outputs": [
    {
     "data": {
      "text/html": [
       "<div>\n",
       "<style scoped>\n",
       "    .dataframe tbody tr th:only-of-type {\n",
       "        vertical-align: middle;\n",
       "    }\n",
       "\n",
       "    .dataframe tbody tr th {\n",
       "        vertical-align: top;\n",
       "    }\n",
       "\n",
       "    .dataframe thead th {\n",
       "        text-align: right;\n",
       "    }\n",
       "</style>\n",
       "<table border=\"1\" class=\"dataframe\">\n",
       "  <thead>\n",
       "    <tr style=\"text-align: right;\">\n",
       "      <th></th>\n",
       "      <th>row_id</th>\n",
       "      <th>asbfly</th>\n",
       "      <th>ashdro1</th>\n",
       "      <th>ashpri1</th>\n",
       "      <th>ashwoo2</th>\n",
       "      <th>asikoe2</th>\n",
       "      <th>asiope1</th>\n",
       "      <th>aspfly1</th>\n",
       "      <th>aspswi1</th>\n",
       "      <th>barfly1</th>\n",
       "      <th>...</th>\n",
       "      <th>whbwoo2</th>\n",
       "      <th>whcbar1</th>\n",
       "      <th>whiter2</th>\n",
       "      <th>whrmun</th>\n",
       "      <th>whtkin2</th>\n",
       "      <th>woosan</th>\n",
       "      <th>wynlau1</th>\n",
       "      <th>yebbab1</th>\n",
       "      <th>yebbul3</th>\n",
       "      <th>zitcis1</th>\n",
       "    </tr>\n",
       "  </thead>\n",
       "  <tbody>\n",
       "  </tbody>\n",
       "</table>\n",
       "<p>0 rows × 183 columns</p>\n",
       "</div>"
      ],
      "text/plain": [
       "Empty DataFrame\n",
       "Columns: [row_id, asbfly, ashdro1, ashpri1, ashwoo2, asikoe2, asiope1, aspfly1, aspswi1, barfly1, barswa, bcnher, bkcbul1, bkrfla1, bkskit1, bkwsti, bladro1, blaeag1, blakit1, blhori1, blnmon1, blrwar1, bncwoo3, brakit1, brasta1, brcful1, brfowl1, brnhao1, brnshr, brodro1, brwjac1, brwowl1, btbeat1, bwfshr1, categr, chbeat1, cohcuc1, comfla1, comgre, comior1, comkin1, commoo3, commyn, compea, comros, comsan, comtai1, copbar1, crbsun2, cregos1, crfbar1, crseag1, dafbab1, darter2, eaywag1, emedov2, eucdov, eurbla2, eurcoo, forwag1, gargan, gloibi, goflea1, graher1, grbeat1, grecou1, greegr, grefla1, grehor1, grejun2, grenig1, grewar3, grnsan, grnwar1, grtdro1, gryfra, grynig2, grywag, gybpri1, gyhcaf1, heswoo1, hoopoe, houcro1, houspa, inbrob1, indpit1, indrob1, indrol2, indtit1, ingori1, inpher1, insbab1, insowl1, integr, isbduc1, jerbus2, junbab2, junmyn1, junowl1, kenplo1, ...]\n",
       "Index: []\n",
       "\n",
       "[0 rows x 183 columns]"
      ]
     },
     "execution_count": 59,
     "metadata": {},
     "output_type": "execute_result"
    }
   ],
   "source": [
    "df.head()"
   ]
  },
  {
   "cell_type": "code",
   "execution_count": 60,
   "id": "e9b3e751",
   "metadata": {
    "execution": {
     "iopub.execute_input": "2024-05-05T06:40:53.587422Z",
     "iopub.status.busy": "2024-05-05T06:40:53.587002Z",
     "iopub.status.idle": "2024-05-05T06:40:53.592499Z",
     "shell.execute_reply": "2024-05-05T06:40:53.591198Z"
    },
    "papermill": {
     "duration": 0.068461,
     "end_time": "2024-05-05T06:40:53.594828",
     "exception": false,
     "start_time": "2024-05-05T06:40:53.526367",
     "status": "completed"
    },
    "tags": []
   },
   "outputs": [],
   "source": [
    "if len(predictions) < 1:\n",
    "    pass\n",
    "else:\n",
    "    df[bird_cols] = predictions"
   ]
  },
  {
   "cell_type": "code",
   "execution_count": 61,
   "id": "18504192",
   "metadata": {
    "execution": {
     "iopub.execute_input": "2024-05-05T06:40:53.711391Z",
     "iopub.status.busy": "2024-05-05T06:40:53.710959Z",
     "iopub.status.idle": "2024-05-05T06:40:53.726383Z",
     "shell.execute_reply": "2024-05-05T06:40:53.725297Z"
    },
    "papermill": {
     "duration": 0.076469,
     "end_time": "2024-05-05T06:40:53.728804",
     "exception": false,
     "start_time": "2024-05-05T06:40:53.652335",
     "status": "completed"
    },
    "tags": []
   },
   "outputs": [
    {
     "data": {
      "text/html": [
       "<div>\n",
       "<style scoped>\n",
       "    .dataframe tbody tr th:only-of-type {\n",
       "        vertical-align: middle;\n",
       "    }\n",
       "\n",
       "    .dataframe tbody tr th {\n",
       "        vertical-align: top;\n",
       "    }\n",
       "\n",
       "    .dataframe thead th {\n",
       "        text-align: right;\n",
       "    }\n",
       "</style>\n",
       "<table border=\"1\" class=\"dataframe\">\n",
       "  <thead>\n",
       "    <tr style=\"text-align: right;\">\n",
       "      <th></th>\n",
       "      <th>row_id</th>\n",
       "      <th>asbfly</th>\n",
       "      <th>ashdro1</th>\n",
       "      <th>ashpri1</th>\n",
       "      <th>ashwoo2</th>\n",
       "      <th>asikoe2</th>\n",
       "      <th>asiope1</th>\n",
       "      <th>aspfly1</th>\n",
       "      <th>aspswi1</th>\n",
       "      <th>barfly1</th>\n",
       "      <th>...</th>\n",
       "      <th>whbwoo2</th>\n",
       "      <th>whcbar1</th>\n",
       "      <th>whiter2</th>\n",
       "      <th>whrmun</th>\n",
       "      <th>whtkin2</th>\n",
       "      <th>woosan</th>\n",
       "      <th>wynlau1</th>\n",
       "      <th>yebbab1</th>\n",
       "      <th>yebbul3</th>\n",
       "      <th>zitcis1</th>\n",
       "    </tr>\n",
       "  </thead>\n",
       "  <tbody>\n",
       "  </tbody>\n",
       "</table>\n",
       "<p>0 rows × 183 columns</p>\n",
       "</div>"
      ],
      "text/plain": [
       "Empty DataFrame\n",
       "Columns: [row_id, asbfly, ashdro1, ashpri1, ashwoo2, asikoe2, asiope1, aspfly1, aspswi1, barfly1, barswa, bcnher, bkcbul1, bkrfla1, bkskit1, bkwsti, bladro1, blaeag1, blakit1, blhori1, blnmon1, blrwar1, bncwoo3, brakit1, brasta1, brcful1, brfowl1, brnhao1, brnshr, brodro1, brwjac1, brwowl1, btbeat1, bwfshr1, categr, chbeat1, cohcuc1, comfla1, comgre, comior1, comkin1, commoo3, commyn, compea, comros, comsan, comtai1, copbar1, crbsun2, cregos1, crfbar1, crseag1, dafbab1, darter2, eaywag1, emedov2, eucdov, eurbla2, eurcoo, forwag1, gargan, gloibi, goflea1, graher1, grbeat1, grecou1, greegr, grefla1, grehor1, grejun2, grenig1, grewar3, grnsan, grnwar1, grtdro1, gryfra, grynig2, grywag, gybpri1, gyhcaf1, heswoo1, hoopoe, houcro1, houspa, inbrob1, indpit1, indrob1, indrol2, indtit1, ingori1, inpher1, insbab1, insowl1, integr, isbduc1, jerbus2, junbab2, junmyn1, junowl1, kenplo1, ...]\n",
       "Index: []\n",
       "\n",
       "[0 rows x 183 columns]"
      ]
     },
     "execution_count": 61,
     "metadata": {},
     "output_type": "execute_result"
    }
   ],
   "source": [
    "df.head() "
   ]
  },
  {
   "cell_type": "code",
   "execution_count": 62,
   "id": "00bf9206",
   "metadata": {
    "execution": {
     "iopub.execute_input": "2024-05-05T06:40:53.848456Z",
     "iopub.status.busy": "2024-05-05T06:40:53.848024Z",
     "iopub.status.idle": "2024-05-05T06:40:53.855779Z",
     "shell.execute_reply": "2024-05-05T06:40:53.854661Z"
    },
    "papermill": {
     "duration": 0.071245,
     "end_time": "2024-05-05T06:40:53.858448",
     "exception": false,
     "start_time": "2024-05-05T06:40:53.787203",
     "status": "completed"
    },
    "tags": []
   },
   "outputs": [],
   "source": [
    "df.to_csv(\"submission.csv\", index=False) "
   ]
  },
  {
   "cell_type": "code",
   "execution_count": 63,
   "id": "b8fd04c3",
   "metadata": {
    "execution": {
     "iopub.execute_input": "2024-05-05T06:40:53.976282Z",
     "iopub.status.busy": "2024-05-05T06:40:53.975869Z",
     "iopub.status.idle": "2024-05-05T06:40:55.911368Z",
     "shell.execute_reply": "2024-05-05T06:40:55.910203Z"
    },
    "papermill": {
     "duration": 1.998629,
     "end_time": "2024-05-05T06:40:55.915205",
     "exception": false,
     "start_time": "2024-05-05T06:40:53.916576",
     "status": "completed"
    },
    "tags": []
   },
   "outputs": [
    {
     "data": {
      "text/plain": [
       "<Axes: >"
      ]
     },
     "execution_count": 63,
     "metadata": {},
     "output_type": "execute_result"
    },
    {
     "data": {
      "image/png": "[encoded data removed]",
      "text/plain": [
       "<Figure size 2400x400 with 1 Axes>"
      ]
     },
     "metadata": {},
     "output_type": "display_data"
    }
   ],
   "source": [
    "df[:48].set_index(\"row_id\").max().T.plot(kind=\"bar\", figsize=(24,4))"
   ]
  },
  {
   "cell_type": "code",
   "execution_count": null,
   "id": "d8b52ce0",
   "metadata": {
    "papermill": {
     "duration": 0.060036,
     "end_time": "2024-05-05T06:40:56.034834",
     "exception": false,
     "start_time": "2024-05-05T06:40:55.974798",
     "status": "completed"
    },
    "tags": []
   },
   "outputs": [],
   "source": []
  },
  {
   "cell_type": "code",
   "execution_count": 64,
   "id": "20c2b431",
   "metadata": {
    "execution": {
     "iopub.execute_input": "2024-05-05T06:40:56.157164Z",
     "iopub.status.busy": "2024-05-05T06:40:56.156749Z",
     "iopub.status.idle": "2024-05-05T06:40:56.163901Z",
     "shell.execute_reply": "2024-05-05T06:40:56.162788Z"
    },
    "papermill": {
     "duration": 0.071587,
     "end_time": "2024-05-05T06:40:56.166298",
     "exception": false,
     "start_time": "2024-05-05T06:40:56.094711",
     "status": "completed"
    },
    "tags": []
   },
   "outputs": [],
   "source": [
    "if KAGGLE == False:\n",
    "    def get_fold_data(fold):\n",
    "        \n",
    "        valid = train_csv.loc[train_csv[\"fold\"]==fold]\n",
    "        filelist = [f\"{cfg.dir}train_audio/{name}\" for name in valid[\"filename\"]]\n",
    "    \n",
    "        clearn_dataset = BirdCLEF_Dataset(df=filelist, augmentation=False, mode='clean')\n",
    "        return clearn_dataset, valid"
   ]
  },
  {
   "cell_type": "code",
   "execution_count": 65,
   "id": "c7e21416",
   "metadata": {
    "execution": {
     "iopub.execute_input": "2024-05-05T06:40:56.289055Z",
     "iopub.status.busy": "2024-05-05T06:40:56.288072Z",
     "iopub.status.idle": "2024-05-05T06:40:56.300279Z",
     "shell.execute_reply": "2024-05-05T06:40:56.299104Z"
    },
    "papermill": {
     "duration": 0.075907,
     "end_time": "2024-05-05T06:40:56.302755",
     "exception": false,
     "start_time": "2024-05-05T06:40:56.226848",
     "status": "completed"
    },
    "tags": []
   },
   "outputs": [],
   "source": [
    "if KAGGLE == False:\n",
    "    def predict_and_visualize(data_index):\n",
    "        use_fold = 4\n",
    "        c_dataset, df = get_fold_data(fold=use_fold)\n",
    "        model = models[use_fold].to(device)\n",
    "        \n",
    "        prediction = model.forward(c_dataset[data_index][0].to(device)).cpu().detach()\n",
    "        prediction = torch.sigmoid(prediction)\n",
    "        \n",
    "        df_index = df.index[data_index]\n",
    "        true_labels = df.loc[df_index, \"new_target\"].split()\n",
    "        true_guide_pos = [LABELS.index(l)+0.5 for l in true_labels]\n",
    "    \n",
    "        fig, ax = plt.subplots(figsize=(24, 1.5))\n",
    "        sns.heatmap(prediction, cmap=\"jet\", vmin=0, vmax=1)\n",
    "        ax.set_xticks(np.arange(0,182))\n",
    "        ax.set_xticklabels(LABELS, fontsize=8)\n",
    "        \n",
    "        ax.set_yticks(np.arange(0,prediction.shape[0]))\n",
    "        ax.set_yticklabels(np.arange(1,1+prediction.shape[0])*5)\n",
    "        \n",
    "        for pos in true_guide_pos:\n",
    "            ax.axvline(x=pos, color=\"red\", ls=\"--\", lw=0.9)\n",
    "        \n",
    "        plt.xticks(ticks=np.arange(0,182), labels=LABELS, color='black')  # 元の設定を保持\n",
    "        plt.title(c_dataset[data_index][1])\n",
    "        plt.show()\n",
    "\n",
    "        return prediction"
   ]
  },
  {
   "cell_type": "code",
   "execution_count": 66,
   "id": "f881bd77",
   "metadata": {
    "execution": {
     "iopub.execute_input": "2024-05-05T06:40:56.424181Z",
     "iopub.status.busy": "2024-05-05T06:40:56.423790Z",
     "iopub.status.idle": "2024-05-05T06:40:56.430941Z",
     "shell.execute_reply": "2024-05-05T06:40:56.429817Z"
    },
    "papermill": {
     "duration": 0.070762,
     "end_time": "2024-05-05T06:40:56.433150",
     "exception": false,
     "start_time": "2024-05-05T06:40:56.362388",
     "status": "completed"
    },
    "tags": []
   },
   "outputs": [],
   "source": [
    "if KAGGLE == False:\n",
    "\n",
    "    N = len(train_csv.loc[train_csv[\"fold\"]==fold])//30\n",
    "    print(N)\n",
    "    \n",
    "    predict_and_visualize(data_index=0)\n",
    "    predict_and_visualize(data_index=1)\n",
    "    predict_and_visualize(data_index=2)\n",
    "    predict_and_visualize(data_index=3)\n",
    "    predict_and_visualize(data_index=4)\n",
    "\n",
    "\n",
    "    for i in range(N):\n",
    "        try:\n",
    "            predict_and_visualize(data_index=i*30)\n",
    "        except:\n",
    "            pass"
   ]
  },
  {
   "cell_type": "code",
   "execution_count": null,
   "id": "85ed1510",
   "metadata": {
    "papermill": {
     "duration": 0.061836,
     "end_time": "2024-05-05T06:40:56.554825",
     "exception": false,
     "start_time": "2024-05-05T06:40:56.492989",
     "status": "completed"
    },
    "tags": []
   },
   "outputs": [],
   "source": []
  },
  {
   "cell_type": "code",
   "execution_count": null,
   "id": "69c22ad6",
   "metadata": {
    "papermill": {
     "duration": 0.060593,
     "end_time": "2024-05-05T06:40:56.676472",
     "exception": false,
     "start_time": "2024-05-05T06:40:56.615879",
     "status": "completed"
    },
    "scrolled": true,
    "tags": []
   },
   "outputs": [],
   "source": []
  },
  {
   "cell_type": "code",
   "execution_count": null,
   "id": "b9b937c8",
   "metadata": {
    "papermill": {
     "duration": 0.059387,
     "end_time": "2024-05-05T06:40:56.796205",
     "exception": false,
     "start_time": "2024-05-05T06:40:56.736818",
     "status": "completed"
    },
    "tags": []
   },
   "outputs": [],
   "source": []
  },
  {
   "cell_type": "code",
   "execution_count": null,
   "id": "7ecdcdd2",
   "metadata": {
    "papermill": {
     "duration": 0.059629,
     "end_time": "2024-05-05T06:40:56.916936",
     "exception": false,
     "start_time": "2024-05-05T06:40:56.857307",
     "status": "completed"
    },
    "tags": []
   },
   "outputs": [],
   "source": []
  },
  {
   "cell_type": "code",
   "execution_count": null,
   "id": "08117950",
   "metadata": {
    "papermill": {
     "duration": 0.059814,
     "end_time": "2024-05-05T06:40:57.036714",
     "exception": false,
     "start_time": "2024-05-05T06:40:56.976900",
     "status": "completed"
    },
    "tags": []
   },
   "outputs": [],
   "source": []
  },
  {
   "cell_type": "code",
   "execution_count": null,
   "id": "a9c2879c",
   "metadata": {
    "papermill": {
     "duration": 0.060611,
     "end_time": "2024-05-05T06:40:57.157415",
     "exception": false,
     "start_time": "2024-05-05T06:40:57.096804",
     "status": "completed"
    },
    "tags": []
   },
   "outputs": [],
   "source": []
  },
  {
   "cell_type": "code",
   "execution_count": null,
   "id": "24edec76",
   "metadata": {
    "papermill": {
     "duration": 0.062766,
     "end_time": "2024-05-05T06:40:57.280087",
     "exception": false,
     "start_time": "2024-05-05T06:40:57.217321",
     "status": "completed"
    },
    "tags": []
   },
   "outputs": [],
   "source": []
  },
  {
   "cell_type": "code",
   "execution_count": null,
   "id": "c062a3ca",
   "metadata": {
    "papermill": {
     "duration": 0.060149,
     "end_time": "2024-05-05T06:40:57.400445",
     "exception": false,
     "start_time": "2024-05-05T06:40:57.340296",
     "status": "completed"
    },
    "tags": []
   },
   "outputs": [],
   "source": []
  },
  {
   "cell_type": "code",
   "execution_count": null,
   "id": "0a7778b3",
   "metadata": {
    "papermill": {
     "duration": 0.059685,
     "end_time": "2024-05-05T06:40:57.520059",
     "exception": false,
     "start_time": "2024-05-05T06:40:57.460374",
     "status": "completed"
    },
    "tags": []
   },
   "outputs": [],
   "source": []
  },
  {
   "cell_type": "code",
   "execution_count": null,
   "id": "e406f3b7",
   "metadata": {
    "papermill": {
     "duration": 0.060646,
     "end_time": "2024-05-05T06:40:57.642622",
     "exception": false,
     "start_time": "2024-05-05T06:40:57.581976",
     "status": "completed"
    },
    "tags": []
   },
   "outputs": [],
   "source": []
  },
  {
   "cell_type": "code",
   "execution_count": null,
   "id": "2da0e5f6",
   "metadata": {
    "papermill": {
     "duration": 0.072128,
     "end_time": "2024-05-05T06:40:57.780237",
     "exception": false,
     "start_time": "2024-05-05T06:40:57.708109",
     "status": "completed"
    },
    "tags": []
   },
   "outputs": [],
   "source": []
  },
  {
   "cell_type": "code",
   "execution_count": 67,
   "id": "96cefb21",
   "metadata": {
    "execution": {
     "iopub.execute_input": "2024-05-05T06:40:57.904231Z",
     "iopub.status.busy": "2024-05-05T06:40:57.903799Z",
     "iopub.status.idle": "2024-05-05T06:40:57.913085Z",
     "shell.execute_reply": "2024-05-05T06:40:57.911920Z"
    },
    "papermill": {
     "duration": 0.075101,
     "end_time": "2024-05-05T06:40:57.915543",
     "exception": false,
     "start_time": "2024-05-05T06:40:57.840442",
     "status": "completed"
    },
    "tags": []
   },
   "outputs": [],
   "source": [
    "if KAGGLE == False:\n",
    "    model.eval().cuda();\n",
    "    \n",
    "    preds, trues, targets = [], [], []\n",
    "    for idx, (data, label) in enumerate(tqdm(valid_dataloader, leave=False ,desc=\"[valid]\")):\n",
    "        data = data.to(device)\n",
    "        label = label[0]\n",
    "        # with amp.autocast(cfg.enable_amp):\n",
    "        pred = model.forward(data[0].unsqueeze(1))\n",
    "    \n",
    "        preds.extend(pred.detach().cpu())\n",
    "        trues.extend(label)\n",
    "        targets.extend(label.argmax(axis=1))\n",
    "\n",
    "    t = torch.stack(preds)\n",
    "    targets = torch.tensor(targets)\n",
    "\n",
    "    auc = multiclass_auroc(input=torch.sigmoid(t), target=targets, num_classes=len(LABELS),\n",
    "                               average=None)"
   ]
  },
  {
   "cell_type": "code",
   "execution_count": 68,
   "id": "92a0c661",
   "metadata": {
    "execution": {
     "iopub.execute_input": "2024-05-05T06:40:58.036990Z",
     "iopub.status.busy": "2024-05-05T06:40:58.036566Z",
     "iopub.status.idle": "2024-05-05T06:40:58.042707Z",
     "shell.execute_reply": "2024-05-05T06:40:58.041536Z"
    },
    "papermill": {
     "duration": 0.069748,
     "end_time": "2024-05-05T06:40:58.045021",
     "exception": false,
     "start_time": "2024-05-05T06:40:57.975273",
     "status": "completed"
    },
    "tags": []
   },
   "outputs": [],
   "source": [
    "if KAGGLE == False:\n",
    "    train_[\"primary_label\"].value_counts().sort_index().plot(kind=\"bar\", figsize=(20,4))\n",
    "    plt.scatter(x=LABELS, y=auc*100, color=\"r\")"
   ]
  },
  {
   "cell_type": "code",
   "execution_count": 69,
   "id": "7af588e5",
   "metadata": {
    "execution": {
     "iopub.execute_input": "2024-05-05T06:40:58.167735Z",
     "iopub.status.busy": "2024-05-05T06:40:58.166812Z",
     "iopub.status.idle": "2024-05-05T06:40:58.173556Z",
     "shell.execute_reply": "2024-05-05T06:40:58.172284Z"
    },
    "papermill": {
     "duration": 0.070711,
     "end_time": "2024-05-05T06:40:58.176009",
     "exception": false,
     "start_time": "2024-05-05T06:40:58.105298",
     "status": "completed"
    },
    "tags": []
   },
   "outputs": [],
   "source": [
    "if KAGGLE == False:\n",
    "    train[\"primary_label\"].value_counts().sort_index().plot(kind=\"bar\", figsize=(20,4))\n",
    "    plt.scatter(x=LABELS, y=auc*100, color=\"r\")"
   ]
  },
  {
   "cell_type": "code",
   "execution_count": 70,
   "id": "a141f409",
   "metadata": {
    "execution": {
     "iopub.execute_input": "2024-05-05T06:40:58.297998Z",
     "iopub.status.busy": "2024-05-05T06:40:58.297522Z",
     "iopub.status.idle": "2024-05-05T06:40:58.303788Z",
     "shell.execute_reply": "2024-05-05T06:40:58.302752Z"
    },
    "papermill": {
     "duration": 0.069906,
     "end_time": "2024-05-05T06:40:58.306021",
     "exception": false,
     "start_time": "2024-05-05T06:40:58.236115",
     "status": "completed"
    },
    "tags": []
   },
   "outputs": [],
   "source": [
    "if KAGGLE == False:\n",
    "    valid[\"primary_label\"].value_counts().sort_index().plot(kind=\"bar\", figsize=(20,4))\n",
    "    plt.scatter(x=LABELS, y=auc*100, color=\"r\")"
   ]
  },
  {
   "cell_type": "code",
   "execution_count": null,
   "id": "f20c323f",
   "metadata": {
    "papermill": {
     "duration": 0.059772,
     "end_time": "2024-05-05T06:40:58.426067",
     "exception": false,
     "start_time": "2024-05-05T06:40:58.366295",
     "status": "completed"
    },
    "tags": []
   },
   "outputs": [],
   "source": []
  },
  {
   "cell_type": "code",
   "execution_count": null,
   "id": "dca167c0",
   "metadata": {
    "papermill": {
     "duration": 0.059138,
     "end_time": "2024-05-05T06:40:58.544686",
     "exception": false,
     "start_time": "2024-05-05T06:40:58.485548",
     "status": "completed"
    },
    "tags": []
   },
   "outputs": [],
   "source": []
  },
  {
   "cell_type": "code",
   "execution_count": null,
   "id": "5bf87f1c",
   "metadata": {
    "papermill": {
     "duration": 0.059269,
     "end_time": "2024-05-05T06:40:58.663974",
     "exception": false,
     "start_time": "2024-05-05T06:40:58.604705",
     "status": "completed"
    },
    "tags": []
   },
   "outputs": [],
   "source": []
  },
  {
   "cell_type": "code",
   "execution_count": 71,
   "id": "154bf7ee",
   "metadata": {
    "execution": {
     "iopub.execute_input": "2024-05-05T06:40:58.785389Z",
     "iopub.status.busy": "2024-05-05T06:40:58.784985Z",
     "iopub.status.idle": "2024-05-05T06:40:58.797523Z",
     "shell.execute_reply": "2024-05-05T06:40:58.796516Z"
    },
    "papermill": {
     "duration": 0.076466,
     "end_time": "2024-05-05T06:40:58.800027",
     "exception": false,
     "start_time": "2024-05-05T06:40:58.723561",
     "status": "completed"
    },
    "tags": []
   },
   "outputs": [],
   "source": [
    "if KAGGLE == False:\n",
    "    fig, axes = plt.subplots(figsize=(24,62), ncols=6, nrows=31, tight_layout=True)\n",
    "    \n",
    "    axs = axes.ravel()\n",
    "\n",
    "    LABELS_COUNT = train_csv[\"primary_label\"].value_counts().sort_index().to_numpy()\n",
    "    LABELS_OCCUPY = train_csv[\"primary_label\"].value_counts(normalize=True).sort_index().to_numpy()\n",
    "    \n",
    "    oof_predictions = torch.sigmoid(torch.stack(preds))\n",
    "    oof_predictions = pd.DataFrame(oof_predictions, columns=LABELS)\n",
    "    \n",
    "    oof_predictions.head()\n",
    "    \n",
    "    oof_trues = torch.stack(trues)\n",
    "    oof_trues = pd.DataFrame(oof_trues, columns=LABELS)\n",
    "    \n",
    "    oof_trues.head()\n",
    "    LABEL_df = pd.DataFrame([LABELS,LABELS_COUNT]).T\n",
    "    LABEL_df.columns = [\"name\", \"count\"]\n",
    "    LABEL_df = LABEL_df.sort_values(\"count\").reset_index(drop=True)\n",
    "    iter = len(LABEL_df)\n",
    "    \n",
    "    for idx in range(iter):\n",
    "        ax = axs[idx]\n",
    "        \n",
    "        l = LABEL_df.loc[idx, \"name\"]\n",
    "        count = LABEL_df.loc[idx, \"count\"]\n",
    "        \n",
    "        tmp = pd.concat([oof_trues[f\"{l}\"], oof_predictions[f\"{l}\"]], axis=1)\n",
    "        tmp.columns = [\"label\", f\"{l}_prob\"]\n",
    "        \n",
    "        tmp[\"10_label\"] = (10*tmp[\"label\"]).astype(int)\n",
    "        \n",
    "        sns.boxplot(tmp, x=f\"{l}_prob\", y=\"10_label\",orient=\"h\", width=0.5, ax=ax)\n",
    "        ax.set(title=f\"{l}_{count}\", xlim=(0,1))\n",
    "    \n",
    "\n",
    "    \n"
   ]
  },
  {
   "cell_type": "code",
   "execution_count": null,
   "id": "2a5af3b2",
   "metadata": {
    "papermill": {
     "duration": 0.060414,
     "end_time": "2024-05-05T06:40:58.921232",
     "exception": false,
     "start_time": "2024-05-05T06:40:58.860818",
     "status": "completed"
    },
    "tags": []
   },
   "outputs": [],
   "source": []
  },
  {
   "cell_type": "code",
   "execution_count": null,
   "id": "42d3f3ef",
   "metadata": {
    "papermill": {
     "duration": 0.059584,
     "end_time": "2024-05-05T06:40:59.041341",
     "exception": false,
     "start_time": "2024-05-05T06:40:58.981757",
     "status": "completed"
    },
    "tags": []
   },
   "outputs": [],
   "source": []
  },
  {
   "cell_type": "code",
   "execution_count": null,
   "id": "c73d064f",
   "metadata": {
    "papermill": {
     "duration": 0.059583,
     "end_time": "2024-05-05T06:40:59.162571",
     "exception": false,
     "start_time": "2024-05-05T06:40:59.102988",
     "status": "completed"
    },
    "tags": []
   },
   "outputs": [],
   "source": []
  },
  {
   "cell_type": "code",
   "execution_count": null,
   "id": "bf1666f8",
   "metadata": {
    "papermill": {
     "duration": 0.059914,
     "end_time": "2024-05-05T06:40:59.282762",
     "exception": false,
     "start_time": "2024-05-05T06:40:59.222848",
     "status": "completed"
    },
    "tags": []
   },
   "outputs": [],
   "source": []
  },
  {
   "cell_type": "code",
   "execution_count": null,
   "id": "7ce52307",
   "metadata": {
    "papermill": {
     "duration": 0.059839,
     "end_time": "2024-05-05T06:40:59.402280",
     "exception": false,
     "start_time": "2024-05-05T06:40:59.342441",
     "status": "completed"
    },
    "tags": []
   },
   "outputs": [],
   "source": []
  },
  {
   "cell_type": "code",
   "execution_count": null,
   "id": "b64a1a13",
   "metadata": {
    "papermill": {
     "duration": 0.05978,
     "end_time": "2024-05-05T06:40:59.521979",
     "exception": false,
     "start_time": "2024-05-05T06:40:59.462199",
     "status": "completed"
    },
    "tags": []
   },
   "outputs": [],
   "source": []
  },
  {
   "cell_type": "code",
   "execution_count": null,
   "id": "00c91825",
   "metadata": {
    "papermill": {
     "duration": 0.060261,
     "end_time": "2024-05-05T06:40:59.641816",
     "exception": false,
     "start_time": "2024-05-05T06:40:59.581555",
     "status": "completed"
    },
    "tags": []
   },
   "outputs": [],
   "source": []
  },
  {
   "cell_type": "code",
   "execution_count": null,
   "id": "aac1d272",
   "metadata": {
    "papermill": {
     "duration": 0.058927,
     "end_time": "2024-05-05T06:40:59.760416",
     "exception": false,
     "start_time": "2024-05-05T06:40:59.701489",
     "status": "completed"
    },
    "tags": []
   },
   "outputs": [],
   "source": []
  }
 ],
 "metadata": {
  "kaggle": {
   "accelerator": "none",
   "dataSources": [
    {
     "databundleVersionId": 8068726,
     "sourceId": 70203,
     "sourceType": "competition"
    },
    {
     "datasetId": 4789213,
     "sourceId": 8108072,
     "sourceType": "datasetVersion"
    },
    {
     "datasetId": 4941521,
     "sourceId": 8319412,
     "sourceType": "datasetVersion"
    }
   ],
   "dockerImageVersionId": 30698,
   "isGpuEnabled": false,
   "isInternetEnabled": false,
   "language": "python",
   "sourceType": "notebook"
  },
  "kernelspec": {
   "display_name": "Python 3",
   "language": "python",
   "name": "python3"
  },
  "language_info": {
   "codemirror_mode": {
    "name": "ipython",
    "version": 3
   },
   "file_extension": ".py",
   "mimetype": "text/x-python",
   "name": "python",
   "nbconvert_exporter": "python",
   "pygments_lexer": "ipython3",
   "version": "3.10.13"
  },
  "papermill": {
   "default_parameters": {},
   "duration": 83.365237,
   "end_time": "2024-05-05T06:41:02.610616",
   "environment_variables": {},
   "exception": null,
   "input_path": "__notebook__.ipynb",
   "output_path": "__notebook__.ipynb",
   "parameters": {},
   "start_time": "2024-05-05T06:39:39.245379",
   "version": "2.5.0"
  },
  "widgets": {
   "application/vnd.jupyter.widget-state+json": {
    "state": {
     "0277a538fbaf4d11a6c8f7ca9063fa90": {
      "model_module": "@jupyter-widgets/controls",
      "model_module_version": "1.5.0",
      "model_name": "DescriptionStyleModel",
      "state": {
       "_model_module": "@jupyter-widgets/controls",
       "_model_module_version": "1.5.0",
       "_model_name": "DescriptionStyleModel",
       "_view_count": null,
       "_view_module": "@jupyter-widgets/base",
       "_view_module_version": "1.2.0",
       "_view_name": "StyleView",
       "description_width": ""
      }
     },
     "0530e930794a40ab9275170e53a1ea9f": {
      "model_module": "@jupyter-widgets/controls",
      "model_module_version": "1.5.0",
      "model_name": "HBoxModel",
      "state": {
       "_dom_classes": [],
       "_model_module": "@jupyter-widgets/controls",
       "_model_module_version": "1.5.0",
       "_model_name": "HBoxModel",
       "_view_count": null,
       "_view_module": "@jupyter-widgets/controls",
       "_view_module_version": "1.5.0",
       "_view_name": "HBoxView",
       "box_style": "",
       "children": [
        "IPY_MODEL_3ce5df4d0ead4cdd80fb4a88ebe84e3d",
        "IPY_MODEL_ce3d5b507ec34026a8dc022ab4bb7da8",
        "IPY_MODEL_86a9f57420104f348762246f7385a467"
       ],
       "layout": "IPY_MODEL_1a089566b519410294236b252f2ba6ea"
      }
     },
     "1a089566b519410294236b252f2ba6ea": {
      "model_module": "@jupyter-widgets/base",
      "model_module_version": "1.2.0",
      "model_name": "LayoutModel",
      "state": {
       "_model_module": "@jupyter-widgets/base",
       "_model_module_version": "1.2.0",
       "_model_name": "LayoutModel",
       "_view_count": null,
       "_view_module": "@jupyter-widgets/base",
       "_view_module_version": "1.2.0",
       "_view_name": "LayoutView",
       "align_content": null,
       "align_items": null,
       "align_self": null,
       "border": null,
       "bottom": null,
       "display": null,
       "flex": null,
       "flex_flow": null,
       "grid_area": null,
       "grid_auto_columns": null,
       "grid_auto_flow": null,
       "grid_auto_rows": null,
       "grid_column": null,
       "grid_gap": null,
       "grid_row": null,
       "grid_template_areas": null,
       "grid_template_columns": null,
       "grid_template_rows": null,
       "height": null,
       "justify_content": null,
       "justify_items": null,
       "left": null,
       "margin": null,
       "max_height": null,
       "max_width": null,
       "min_height": null,
       "min_width": null,
       "object_fit": null,
       "object_position": null,
       "order": null,
       "overflow": null,
       "overflow_x": null,
       "overflow_y": null,
       "padding": null,
       "right": null,
       "top": null,
       "visibility": null,
       "width": null
      }
     },
     "3ce5df4d0ead4cdd80fb4a88ebe84e3d": {
      "model_module": "@jupyter-widgets/controls",
      "model_module_version": "1.5.0",
      "model_name": "HTMLModel",
      "state": {
       "_dom_classes": [],
       "_model_module": "@jupyter-widgets/controls",
       "_model_module_version": "1.5.0",
       "_model_name": "HTMLModel",
       "_view_count": null,
       "_view_module": "@jupyter-widgets/controls",
       "_view_module_version": "1.5.0",
       "_view_name": "HTMLView",
       "description": "",
       "description_tooltip": null,
       "layout": "IPY_MODEL_5cf6292fa97b447385f3b875bb6b4c99",
       "placeholder": "​",
       "style": "IPY_MODEL_7b1a3ec7cbc74e0996c79f613c1542d4",
       "value": ""
      }
     },
     "5cf6292fa97b447385f3b875bb6b4c99": {
      "model_module": "@jupyter-widgets/base",
      "model_module_version": "1.2.0",
      "model_name": "LayoutModel",
      "state": {
       "_model_module": "@jupyter-widgets/base",
       "_model_module_version": "1.2.0",
       "_model_name": "LayoutModel",
       "_view_count": null,
       "_view_module": "@jupyter-widgets/base",
       "_view_module_version": "1.2.0",
       "_view_name": "LayoutView",
       "align_content": null,
       "align_items": null,
       "align_self": null,
       "border": null,
       "bottom": null,
       "display": null,
       "flex": null,
       "flex_flow": null,
       "grid_area": null,
       "grid_auto_columns": null,
       "grid_auto_flow": null,
       "grid_auto_rows": null,
       "grid_column": null,
       "grid_gap": null,
       "grid_row": null,
       "grid_template_areas": null,
       "grid_template_columns": null,
       "grid_template_rows": null,
       "height": null,
       "justify_content": null,
       "justify_items": null,
       "left": null,
       "margin": null,
       "max_height": null,
       "max_width": null,
       "min_height": null,
       "min_width": null,
       "object_fit": null,
       "object_position": null,
       "order": null,
       "overflow": null,
       "overflow_x": null,
       "overflow_y": null,
       "padding": null,
       "right": null,
       "top": null,
       "visibility": null,
       "width": null
      }
     },
     "7b1a3ec7cbc74e0996c79f613c1542d4": {
      "model_module": "@jupyter-widgets/controls",
      "model_module_version": "1.5.0",
      "model_name": "DescriptionStyleModel",
      "state": {
       "_model_module": "@jupyter-widgets/controls",
       "_model_module_version": "1.5.0",
       "_model_name": "DescriptionStyleModel",
       "_view_count": null,
       "_view_module": "@jupyter-widgets/base",
       "_view_module_version": "1.2.0",
       "_view_name": "StyleView",
       "description_width": ""
      }
     },
     "86a9f57420104f348762246f7385a467": {
      "model_module": "@jupyter-widgets/controls",
      "model_module_version": "1.5.0",
      "model_name": "HTMLModel",
      "state": {
       "_dom_classes": [],
       "_model_module": "@jupyter-widgets/controls",
       "_model_module_version": "1.5.0",
       "_model_name": "HTMLModel",
       "_view_count": null,
       "_view_module": "@jupyter-widgets/controls",
       "_view_module_version": "1.5.0",
       "_view_name": "HTMLView",
       "description": "",
       "description_tooltip": null,
       "layout": "IPY_MODEL_ed1b02475e6c4f50952f1dbc12db271a",
       "placeholder": "​",
       "style": "IPY_MODEL_0277a538fbaf4d11a6c8f7ca9063fa90",
       "value": " 0/0 [00:00&lt;?, ?it/s]"
      }
     },
     "915ecc1bb9124b12b8316558cf7d4ac5": {
      "model_module": "@jupyter-widgets/base",
      "model_module_version": "1.2.0",
      "model_name": "LayoutModel",
      "state": {
       "_model_module": "@jupyter-widgets/base",
       "_model_module_version": "1.2.0",
       "_model_name": "LayoutModel",
       "_view_count": null,
       "_view_module": "@jupyter-widgets/base",
       "_view_module_version": "1.2.0",
       "_view_name": "LayoutView",
       "align_content": null,
       "align_items": null,
       "align_self": null,
       "border": null,
       "bottom": null,
       "display": null,
       "flex": null,
       "flex_flow": null,
       "grid_area": null,
       "grid_auto_columns": null,
       "grid_auto_flow": null,
       "grid_auto_rows": null,
       "grid_column": null,
       "grid_gap": null,
       "grid_row": null,
       "grid_template_areas": null,
       "grid_template_columns": null,
       "grid_template_rows": null,
       "height": null,
       "justify_content": null,
       "justify_items": null,
       "left": null,
       "margin": null,
       "max_height": null,
       "max_width": null,
       "min_height": null,
       "min_width": null,
       "object_fit": null,
       "object_position": null,
       "order": null,
       "overflow": null,
       "overflow_x": null,
       "overflow_y": null,
       "padding": null,
       "right": null,
       "top": null,
       "visibility": null,
       "width": "20px"
      }
     },
     "959890ed2964436aa6cb845bef530532": {
      "model_module": "@jupyter-widgets/controls",
      "model_module_version": "1.5.0",
      "model_name": "ProgressStyleModel",
      "state": {
       "_model_module": "@jupyter-widgets/controls",
       "_model_module_version": "1.5.0",
       "_model_name": "ProgressStyleModel",
       "_view_count": null,
       "_view_module": "@jupyter-widgets/base",
       "_view_module_version": "1.2.0",
       "_view_name": "StyleView",
       "bar_color": null,
       "description_width": ""
      }
     },
     "ce3d5b507ec34026a8dc022ab4bb7da8": {
      "model_module": "@jupyter-widgets/controls",
      "model_module_version": "1.5.0",
      "model_name": "FloatProgressModel",
      "state": {
       "_dom_classes": [],
       "_model_module": "@jupyter-widgets/controls",
       "_model_module_version": "1.5.0",
       "_model_name": "FloatProgressModel",
       "_view_count": null,
       "_view_module": "@jupyter-widgets/controls",
       "_view_module_version": "1.5.0",
       "_view_name": "ProgressView",
       "bar_style": "success",
       "description": "",
       "description_tooltip": null,
       "layout": "IPY_MODEL_915ecc1bb9124b12b8316558cf7d4ac5",
       "max": 1.0,
       "min": 0.0,
       "orientation": "horizontal",
       "style": "IPY_MODEL_959890ed2964436aa6cb845bef530532",
       "value": 0.0
      }
     },
     "ed1b02475e6c4f50952f1dbc12db271a": {
      "model_module": "@jupyter-widgets/base",
      "model_module_version": "1.2.0",
      "model_name": "LayoutModel",
      "state": {
       "_model_module": "@jupyter-widgets/base",
       "_model_module_version": "1.2.0",
       "_model_name": "LayoutModel",
       "_view_count": null,
       "_view_module": "@jupyter-widgets/base",
       "_view_module_version": "1.2.0",
       "_view_name": "LayoutView",
       "align_content": null,
       "align_items": null,
       "align_self": null,
       "border": null,
       "bottom": null,
       "display": null,
       "flex": null,
       "flex_flow": null,
       "grid_area": null,
       "grid_auto_columns": null,
       "grid_auto_flow": null,
       "grid_auto_rows": null,
       "grid_column": null,
       "grid_gap": null,
       "grid_row": null,
       "grid_template_areas": null,
       "grid_template_columns": null,
       "grid_template_rows": null,
       "height": null,
       "justify_content": null,
       "justify_items": null,
       "left": null,
       "margin": null,
       "max_height": null,
       "max_width": null,
       "min_height": null,
       "min_width": null,
       "object_fit": null,
       "object_position": null,
       "order": null,
       "overflow": null,
       "overflow_x": null,
       "overflow_y": null,
       "padding": null,
       "right": null,
       "top": null,
       "visibility": null,
       "width": null
      }
     }
    },
    "version_major": 2,
    "version_minor": 0
   }
  }
 },
 "nbformat": 4,
 "nbformat_minor": 5
}
